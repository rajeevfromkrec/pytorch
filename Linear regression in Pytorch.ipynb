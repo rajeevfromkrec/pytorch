{
  "nbformat": 4,
  "nbformat_minor": 0,
  "metadata": {
    "colab": {
      "name": "Untitled18.ipynb",
      "provenance": [],
      "authorship_tag": "ABX9TyM3Mg6nZSyQscUiEC7ZsYgi",
      "include_colab_link": true
    },
    "kernelspec": {
      "name": "python3",
      "display_name": "Python 3"
    }
  },
  "cells": [
    {
      "cell_type": "markdown",
      "metadata": {
        "id": "view-in-github",
        "colab_type": "text"
      },
      "source": [
        "<a href=\"https://colab.research.google.com/github/rajeevfromkrec/pytorch/blob/master/Linear%20regression%20in%20Pytorch.ipynb\" target=\"_parent\"><img src=\"https://colab.research.google.com/assets/colab-badge.svg\" alt=\"Open In Colab\"/></a>"
      ]
    },
    {
      "cell_type": "code",
      "metadata": {
        "id": "s6HAaLPKVan6",
        "colab_type": "code",
        "colab": {
          "base_uri": "https://localhost:8080/",
          "height": 85
        },
        "outputId": "f182321e-d9b1-4432-e23f-629ee4c9c627"
      },
      "source": [
        "!git clone https://github.com/sakshi296/P1-1-Predicting-Diamond-Prices.git"
      ],
      "execution_count": 1,
      "outputs": [
        {
          "output_type": "stream",
          "text": [
            "Cloning into 'P1-1-Predicting-Diamond-Prices'...\n",
            "remote: Enumerating objects: 20, done.\u001b[K\n",
            "Unpacking objects:   5% (1/20)   \rUnpacking objects:  10% (2/20)   \rUnpacking objects:  15% (3/20)   \rUnpacking objects:  20% (4/20)   \rUnpacking objects:  25% (5/20)   \rUnpacking objects:  30% (6/20)   \rUnpacking objects:  35% (7/20)   \rUnpacking objects:  40% (8/20)   \rUnpacking objects:  45% (9/20)   \rremote: Total 20 (delta 0), reused 0 (delta 0), pack-reused 20\u001b[K\n",
            "Unpacking objects:  50% (10/20)   \rUnpacking objects:  55% (11/20)   \rUnpacking objects:  60% (12/20)   \rUnpacking objects:  65% (13/20)   \rUnpacking objects:  70% (14/20)   \rUnpacking objects:  75% (15/20)   \rUnpacking objects:  80% (16/20)   \rUnpacking objects:  85% (17/20)   \rUnpacking objects:  90% (18/20)   \rUnpacking objects:  95% (19/20)   \rUnpacking objects: 100% (20/20)   \rUnpacking objects: 100% (20/20), done.\n"
          ],
          "name": "stdout"
        }
      ]
    },
    {
      "cell_type": "code",
      "metadata": {
        "id": "nGr3-Jw5VdgF",
        "colab_type": "code",
        "colab": {
          "base_uri": "https://localhost:8080/",
          "height": 34
        },
        "outputId": "c5f84f7a-2534-49db-c329-d7ef833792cf"
      },
      "source": [
        "!ls"
      ],
      "execution_count": 2,
      "outputs": [
        {
          "output_type": "stream",
          "text": [
            "P1-1-Predicting-Diamond-Prices\tsample_data\n"
          ],
          "name": "stdout"
        }
      ]
    },
    {
      "cell_type": "code",
      "metadata": {
        "id": "fOJ5wwFHVi2A",
        "colab_type": "code",
        "colab": {}
      },
      "source": [
        "import os"
      ],
      "execution_count": 3,
      "outputs": []
    },
    {
      "cell_type": "code",
      "metadata": {
        "id": "JVrRVYiBVpVh",
        "colab_type": "code",
        "colab": {
          "base_uri": "https://localhost:8080/",
          "height": 102
        },
        "outputId": "9c72e9d3-a3f1-426c-b3ab-52cc99a0ba7e"
      },
      "source": [
        "os.listdir('P1-1-Predicting-Diamond-Prices')"
      ],
      "execution_count": 4,
      "outputs": [
        {
          "output_type": "execute_result",
          "data": {
            "text/plain": [
              "['Project__Diamond_Prices.pdf',\n",
              " 'README.md',\n",
              " 'diamonds.csv',\n",
              " 'new-diamonds.csv',\n",
              " '.git']"
            ]
          },
          "metadata": {
            "tags": []
          },
          "execution_count": 4
        }
      ]
    },
    {
      "cell_type": "code",
      "metadata": {
        "id": "k7M7PPbjVuXB",
        "colab_type": "code",
        "colab": {
          "base_uri": "https://localhost:8080/",
          "height": 71
        },
        "outputId": "5bdff9ca-b162-4915-f5e0-302a7f1109a6"
      },
      "source": [
        "import pandas as pd\n",
        "import torch\n",
        "import torch.nn as nn\n",
        "import torch.nn.functional as F\n",
        "import matplotlib.pyplot as plt\n",
        "import seaborn as sns\n",
        "import numpy as np\n",
        "from torch.utils.data import DataLoader ,random_split, TensorDataset"
      ],
      "execution_count": 5,
      "outputs": [
        {
          "output_type": "stream",
          "text": [
            "/usr/local/lib/python3.6/dist-packages/statsmodels/tools/_testing.py:19: FutureWarning: pandas.util.testing is deprecated. Use the functions in the public API at pandas.testing instead.\n",
            "  import pandas.util.testing as tm\n"
          ],
          "name": "stderr"
        }
      ]
    },
    {
      "cell_type": "code",
      "metadata": {
        "id": "AGpoutOvWZ6H",
        "colab_type": "code",
        "colab": {}
      },
      "source": [
        "df=pd.read_csv('P1-1-Predicting-Diamond-Prices/diamonds.csv')"
      ],
      "execution_count": 6,
      "outputs": []
    },
    {
      "cell_type": "code",
      "metadata": {
        "id": "w1JT-8WDWjGM",
        "colab_type": "code",
        "colab": {
          "base_uri": "https://localhost:8080/",
          "height": 204
        },
        "outputId": "85551dd0-909d-434b-9b0f-232a731d9b8a"
      },
      "source": [
        "df.head()"
      ],
      "execution_count": 24,
      "outputs": [
        {
          "output_type": "execute_result",
          "data": {
            "text/html": [
              "<div>\n",
              "<style scoped>\n",
              "    .dataframe tbody tr th:only-of-type {\n",
              "        vertical-align: middle;\n",
              "    }\n",
              "\n",
              "    .dataframe tbody tr th {\n",
              "        vertical-align: top;\n",
              "    }\n",
              "\n",
              "    .dataframe thead th {\n",
              "        text-align: right;\n",
              "    }\n",
              "</style>\n",
              "<table border=\"1\" class=\"dataframe\">\n",
              "  <thead>\n",
              "    <tr style=\"text-align: right;\">\n",
              "      <th></th>\n",
              "      <th>carat</th>\n",
              "      <th>cut_ord</th>\n",
              "      <th>color</th>\n",
              "      <th>clarity_ord</th>\n",
              "      <th>price</th>\n",
              "    </tr>\n",
              "  </thead>\n",
              "  <tbody>\n",
              "    <tr>\n",
              "      <th>0</th>\n",
              "      <td>0.51</td>\n",
              "      <td>4</td>\n",
              "      <td>F</td>\n",
              "      <td>4</td>\n",
              "      <td>1749</td>\n",
              "    </tr>\n",
              "    <tr>\n",
              "      <th>1</th>\n",
              "      <td>2.25</td>\n",
              "      <td>1</td>\n",
              "      <td>G</td>\n",
              "      <td>1</td>\n",
              "      <td>7069</td>\n",
              "    </tr>\n",
              "    <tr>\n",
              "      <th>2</th>\n",
              "      <td>0.70</td>\n",
              "      <td>3</td>\n",
              "      <td>E</td>\n",
              "      <td>5</td>\n",
              "      <td>2757</td>\n",
              "    </tr>\n",
              "    <tr>\n",
              "      <th>3</th>\n",
              "      <td>0.47</td>\n",
              "      <td>2</td>\n",
              "      <td>F</td>\n",
              "      <td>4</td>\n",
              "      <td>1243</td>\n",
              "    </tr>\n",
              "    <tr>\n",
              "      <th>4</th>\n",
              "      <td>0.30</td>\n",
              "      <td>5</td>\n",
              "      <td>G</td>\n",
              "      <td>7</td>\n",
              "      <td>789</td>\n",
              "    </tr>\n",
              "  </tbody>\n",
              "</table>\n",
              "</div>"
            ],
            "text/plain": [
              "   carat  cut_ord color  clarity_ord  price\n",
              "0   0.51        4     F            4   1749\n",
              "1   2.25        1     G            1   7069\n",
              "2   0.70        3     E            5   2757\n",
              "3   0.47        2     F            4   1243\n",
              "4   0.30        5     G            7    789"
            ]
          },
          "metadata": {
            "tags": []
          },
          "execution_count": 24
        }
      ]
    },
    {
      "cell_type": "code",
      "metadata": {
        "id": "SDBomDcFWsQ6",
        "colab_type": "code",
        "colab": {
          "base_uri": "https://localhost:8080/",
          "height": 297
        },
        "outputId": "98c3c89f-21a0-4543-c07a-5e28d75c0f93"
      },
      "source": [
        "df.describe()"
      ],
      "execution_count": 23,
      "outputs": [
        {
          "output_type": "execute_result",
          "data": {
            "text/html": [
              "<div>\n",
              "<style scoped>\n",
              "    .dataframe tbody tr th:only-of-type {\n",
              "        vertical-align: middle;\n",
              "    }\n",
              "\n",
              "    .dataframe tbody tr th {\n",
              "        vertical-align: top;\n",
              "    }\n",
              "\n",
              "    .dataframe thead th {\n",
              "        text-align: right;\n",
              "    }\n",
              "</style>\n",
              "<table border=\"1\" class=\"dataframe\">\n",
              "  <thead>\n",
              "    <tr style=\"text-align: right;\">\n",
              "      <th></th>\n",
              "      <th>carat</th>\n",
              "      <th>cut_ord</th>\n",
              "      <th>clarity_ord</th>\n",
              "      <th>price</th>\n",
              "    </tr>\n",
              "  </thead>\n",
              "  <tbody>\n",
              "    <tr>\n",
              "      <th>count</th>\n",
              "      <td>50000.000000</td>\n",
              "      <td>50000.000000</td>\n",
              "      <td>50000.000000</td>\n",
              "      <td>50000.000000</td>\n",
              "    </tr>\n",
              "    <tr>\n",
              "      <th>mean</th>\n",
              "      <td>0.798597</td>\n",
              "      <td>3.903980</td>\n",
              "      <td>4.126700</td>\n",
              "      <td>3939.103500</td>\n",
              "    </tr>\n",
              "    <tr>\n",
              "      <th>std</th>\n",
              "      <td>0.474651</td>\n",
              "      <td>1.117043</td>\n",
              "      <td>1.665564</td>\n",
              "      <td>3995.879832</td>\n",
              "    </tr>\n",
              "    <tr>\n",
              "      <th>min</th>\n",
              "      <td>0.200000</td>\n",
              "      <td>1.000000</td>\n",
              "      <td>1.000000</td>\n",
              "      <td>326.000000</td>\n",
              "    </tr>\n",
              "    <tr>\n",
              "      <th>25%</th>\n",
              "      <td>0.400000</td>\n",
              "      <td>3.000000</td>\n",
              "      <td>3.000000</td>\n",
              "      <td>948.000000</td>\n",
              "    </tr>\n",
              "    <tr>\n",
              "      <th>50%</th>\n",
              "      <td>0.700000</td>\n",
              "      <td>4.000000</td>\n",
              "      <td>4.000000</td>\n",
              "      <td>2402.500000</td>\n",
              "    </tr>\n",
              "    <tr>\n",
              "      <th>75%</th>\n",
              "      <td>1.040000</td>\n",
              "      <td>5.000000</td>\n",
              "      <td>5.000000</td>\n",
              "      <td>5331.000000</td>\n",
              "    </tr>\n",
              "    <tr>\n",
              "      <th>max</th>\n",
              "      <td>5.010000</td>\n",
              "      <td>5.000000</td>\n",
              "      <td>8.000000</td>\n",
              "      <td>18823.000000</td>\n",
              "    </tr>\n",
              "  </tbody>\n",
              "</table>\n",
              "</div>"
            ],
            "text/plain": [
              "              carat       cut_ord   clarity_ord         price\n",
              "count  50000.000000  50000.000000  50000.000000  50000.000000\n",
              "mean       0.798597      3.903980      4.126700   3939.103500\n",
              "std        0.474651      1.117043      1.665564   3995.879832\n",
              "min        0.200000      1.000000      1.000000    326.000000\n",
              "25%        0.400000      3.000000      3.000000    948.000000\n",
              "50%        0.700000      4.000000      4.000000   2402.500000\n",
              "75%        1.040000      5.000000      5.000000   5331.000000\n",
              "max        5.010000      5.000000      8.000000  18823.000000"
            ]
          },
          "metadata": {
            "tags": []
          },
          "execution_count": 23
        }
      ]
    },
    {
      "cell_type": "code",
      "metadata": {
        "id": "slpwtkYmJDnA",
        "colab_type": "code",
        "colab": {}
      },
      "source": [
        "df.drop(columns=['Unnamed: 0','clarity','cut'], axis=1,inplace=True)"
      ],
      "execution_count": 9,
      "outputs": []
    },
    {
      "cell_type": "code",
      "metadata": {
        "id": "FbiOWIyYI7D6",
        "colab_type": "code",
        "colab": {
          "base_uri": "https://localhost:8080/",
          "height": 34
        },
        "outputId": "6f209c12-f738-428a-e305-38e00cc4dd11"
      },
      "source": [
        "df.columns"
      ],
      "execution_count": 10,
      "outputs": [
        {
          "output_type": "execute_result",
          "data": {
            "text/plain": [
              "Index(['carat', 'cut_ord', 'color', 'clarity_ord', 'price'], dtype='object')"
            ]
          },
          "metadata": {
            "tags": []
          },
          "execution_count": 10
        }
      ]
    },
    {
      "cell_type": "code",
      "metadata": {
        "id": "XgOpt6_7XyL7",
        "colab_type": "code",
        "colab": {
          "base_uri": "https://localhost:8080/",
          "height": 204
        },
        "outputId": "78e54d96-bcc4-4c78-df7c-051e9ed61262"
      },
      "source": [
        "df.head()"
      ],
      "execution_count": 11,
      "outputs": [
        {
          "output_type": "execute_result",
          "data": {
            "text/html": [
              "<div>\n",
              "<style scoped>\n",
              "    .dataframe tbody tr th:only-of-type {\n",
              "        vertical-align: middle;\n",
              "    }\n",
              "\n",
              "    .dataframe tbody tr th {\n",
              "        vertical-align: top;\n",
              "    }\n",
              "\n",
              "    .dataframe thead th {\n",
              "        text-align: right;\n",
              "    }\n",
              "</style>\n",
              "<table border=\"1\" class=\"dataframe\">\n",
              "  <thead>\n",
              "    <tr style=\"text-align: right;\">\n",
              "      <th></th>\n",
              "      <th>carat</th>\n",
              "      <th>cut_ord</th>\n",
              "      <th>color</th>\n",
              "      <th>clarity_ord</th>\n",
              "      <th>price</th>\n",
              "    </tr>\n",
              "  </thead>\n",
              "  <tbody>\n",
              "    <tr>\n",
              "      <th>0</th>\n",
              "      <td>0.51</td>\n",
              "      <td>4</td>\n",
              "      <td>F</td>\n",
              "      <td>4</td>\n",
              "      <td>1749</td>\n",
              "    </tr>\n",
              "    <tr>\n",
              "      <th>1</th>\n",
              "      <td>2.25</td>\n",
              "      <td>1</td>\n",
              "      <td>G</td>\n",
              "      <td>1</td>\n",
              "      <td>7069</td>\n",
              "    </tr>\n",
              "    <tr>\n",
              "      <th>2</th>\n",
              "      <td>0.70</td>\n",
              "      <td>3</td>\n",
              "      <td>E</td>\n",
              "      <td>5</td>\n",
              "      <td>2757</td>\n",
              "    </tr>\n",
              "    <tr>\n",
              "      <th>3</th>\n",
              "      <td>0.47</td>\n",
              "      <td>2</td>\n",
              "      <td>F</td>\n",
              "      <td>4</td>\n",
              "      <td>1243</td>\n",
              "    </tr>\n",
              "    <tr>\n",
              "      <th>4</th>\n",
              "      <td>0.30</td>\n",
              "      <td>5</td>\n",
              "      <td>G</td>\n",
              "      <td>7</td>\n",
              "      <td>789</td>\n",
              "    </tr>\n",
              "  </tbody>\n",
              "</table>\n",
              "</div>"
            ],
            "text/plain": [
              "   carat  cut_ord color  clarity_ord  price\n",
              "0   0.51        4     F            4   1749\n",
              "1   2.25        1     G            1   7069\n",
              "2   0.70        3     E            5   2757\n",
              "3   0.47        2     F            4   1243\n",
              "4   0.30        5     G            7    789"
            ]
          },
          "metadata": {
            "tags": []
          },
          "execution_count": 11
        }
      ]
    },
    {
      "cell_type": "code",
      "metadata": {
        "id": "YjmvqdyEYwld",
        "colab_type": "code",
        "colab": {
          "base_uri": "https://localhost:8080/",
          "height": 879
        },
        "outputId": "672e1e28-da1e-443e-8dc7-91020d1f549c"
      },
      "source": [
        "df.hist(bins=50,figsize=(20,15))\n",
        "plt.show()"
      ],
      "execution_count": 25,
      "outputs": [
        {
          "output_type": "display_data",
          "data": {
            "image/png": "[encoded data removed]",
            "text/plain": [
              "<Figure size 1440x1080 with 4 Axes>"
            ]
          },
          "metadata": {
            "tags": [],
            "needs_background": "light"
          }
        }
      ]
    },
    {
      "cell_type": "code",
      "metadata": {
        "id": "-jbHDJWZY98s",
        "colab_type": "code",
        "colab": {
          "base_uri": "https://localhost:8080/",
          "height": 221
        },
        "outputId": "28476325-ffb4-4682-c919-9340c20e9f67"
      },
      "source": [
        "df.info()"
      ],
      "execution_count": 13,
      "outputs": [
        {
          "output_type": "stream",
          "text": [
            "<class 'pandas.core.frame.DataFrame'>\n",
            "RangeIndex: 50000 entries, 0 to 49999\n",
            "Data columns (total 5 columns):\n",
            " #   Column       Non-Null Count  Dtype  \n",
            "---  ------       --------------  -----  \n",
            " 0   carat        50000 non-null  float64\n",
            " 1   cut_ord      50000 non-null  int64  \n",
            " 2   color        50000 non-null  object \n",
            " 3   clarity_ord  50000 non-null  int64  \n",
            " 4   price        50000 non-null  int64  \n",
            "dtypes: float64(1), int64(3), object(1)\n",
            "memory usage: 1.9+ MB\n"
          ],
          "name": "stdout"
        }
      ]
    },
    {
      "cell_type": "code",
      "metadata": {
        "id": "Cs3Ag7vmZsAt",
        "colab_type": "code",
        "colab": {
          "base_uri": "https://localhost:8080/",
          "height": 119
        },
        "outputId": "d88d3b45-a725-4a83-fed3-fcaf90a9c886"
      },
      "source": [
        "df.isnull().sum()"
      ],
      "execution_count": 14,
      "outputs": [
        {
          "output_type": "execute_result",
          "data": {
            "text/plain": [
              "carat          0\n",
              "cut_ord        0\n",
              "color          0\n",
              "clarity_ord    0\n",
              "price          0\n",
              "dtype: int64"
            ]
          },
          "metadata": {
            "tags": []
          },
          "execution_count": 14
        }
      ]
    },
    {
      "cell_type": "code",
      "metadata": {
        "id": "IKsWudUfZyLB",
        "colab_type": "code",
        "colab": {
          "base_uri": "https://localhost:8080/",
          "height": 764
        },
        "outputId": "c48db880-311c-4a18-cf91-7b02e81b67d4"
      },
      "source": [
        "sns.pairplot(df,diag_kind='kde')"
      ],
      "execution_count": 26,
      "outputs": [
        {
          "output_type": "execute_result",
          "data": {
            "text/plain": [
              "<seaborn.axisgrid.PairGrid at 0x7fea5ae6af60>"
            ]
          },
          "metadata": {
            "tags": []
          },
          "execution_count": 26
        },
        {
          "output_type": "display_data",
          "data": {
            "image/png": "[encoded data removed]",
            "text/plain": [
              "<Figure size 720x720 with 20 Axes>"
            ]
          },
          "metadata": {
            "tags": [],
            "needs_background": "light"
          }
        }
      ]
    },
    {
      "cell_type": "code",
      "metadata": {
        "id": "bj7pRa9AZ_4L",
        "colab_type": "code",
        "colab": {
          "base_uri": "https://localhost:8080/",
          "height": 379
        },
        "outputId": "ebbfbf9a-cd89-4358-a4fe-1be8f2741a32"
      },
      "source": [
        "corr_mat=df.corr()\n",
        "plt.figure(figsize=(10,5))\n",
        "corr_mat['price'].sort_values(ascending=False).plot(kind='bar')"
      ],
      "execution_count": 16,
      "outputs": [
        {
          "output_type": "execute_result",
          "data": {
            "text/plain": [
              "<matplotlib.axes._subplots.AxesSubplot at 0x7fea5ddac9b0>"
            ]
          },
          "metadata": {
            "tags": []
          },
          "execution_count": 16
        },
        {
          "output_type": "display_data",
          "data": {
            "image/png": "[encoded data removed]",
            "text/plain": [
              "<Figure size 720x360 with 1 Axes>"
            ]
          },
          "metadata": {
            "tags": [],
            "needs_background": "light"
          }
        }
      ]
    },
    {
      "cell_type": "code",
      "metadata": {
        "id": "BydhV8zs9dCl",
        "colab_type": "code",
        "colab": {
          "base_uri": "https://localhost:8080/",
          "height": 613
        },
        "outputId": "b1c0c62d-b185-4355-bed6-543fd134514e"
      },
      "source": [
        "plt.figure(figsize=(15,10))\n",
        "sns.heatmap(df.corr(),annot=True,cmap='coolwarm')"
      ],
      "execution_count": 27,
      "outputs": [
        {
          "output_type": "execute_result",
          "data": {
            "text/plain": [
              "<matplotlib.axes._subplots.AxesSubplot at 0x7fea5a8ea5c0>"
            ]
          },
          "metadata": {
            "tags": []
          },
          "execution_count": 27
        },
        {
          "output_type": "display_data",
          "data": {
            "image/png": "[encoded data removed]",
            "text/plain": [
              "<Figure size 1080x720 with 2 Axes>"
            ]
          },
          "metadata": {
            "tags": [],
            "needs_background": "light"
          }
        }
      ]
    },
    {
      "cell_type": "code",
      "metadata": {
        "id": "LjRBWyAmbaO-",
        "colab_type": "code",
        "colab": {
          "base_uri": "https://localhost:8080/",
          "height": 369
        },
        "outputId": "026fb9d0-0228-4066-8ed0-e6c39f2ce975"
      },
      "source": [
        "input_cat_columns = df.select_dtypes(include = ['object']).columns.tolist()\n",
        "\n",
        "for col in input_cat_columns:\n",
        "    sns.catplot(x=col, y=\"price\",\n",
        "            kind=\"box\", dodge=False, height = 5, aspect = 3,data=df);"
      ],
      "execution_count": 28,
      "outputs": [
        {
          "output_type": "display_data",
          "data": {
            "image/png": "[encoded data removed]",
            "text/plain": [
              "<Figure size 1080x360 with 1 Axes>"
            ]
          },
          "metadata": {
            "tags": [],
            "needs_background": "light"
          }
        }
      ]
    },
    {
      "cell_type": "code",
      "metadata": {
        "id": "UFFvPC-wcLS9",
        "colab_type": "code",
        "colab": {}
      },
      "source": [
        "data_color=pd.get_dummies(df['color'])"
      ],
      "execution_count": 30,
      "outputs": []
    },
    {
      "cell_type": "code",
      "metadata": {
        "id": "A3_e1seq5eJV",
        "colab_type": "code",
        "colab": {}
      },
      "source": [
        "data_encoded=pd.concat([df[['carat','cut_ord','clarity_ord','price']],data_color], axis=1)"
      ],
      "execution_count": 47,
      "outputs": []
    },
    {
      "cell_type": "code",
      "metadata": {
        "id": "8OHCXsQ3cqPK",
        "colab_type": "code",
        "colab": {
          "base_uri": "https://localhost:8080/",
          "height": 204
        },
        "outputId": "7a5dfb59-1cf2-402b-de58-18ab33a08189"
      },
      "source": [
        "data_encoded.head()\n"
      ],
      "execution_count": 91,
      "outputs": [
        {
          "output_type": "execute_result",
          "data": {
            "text/html": [
              "<div>\n",
              "<style scoped>\n",
              "    .dataframe tbody tr th:only-of-type {\n",
              "        vertical-align: middle;\n",
              "    }\n",
              "\n",
              "    .dataframe tbody tr th {\n",
              "        vertical-align: top;\n",
              "    }\n",
              "\n",
              "    .dataframe thead th {\n",
              "        text-align: right;\n",
              "    }\n",
              "</style>\n",
              "<table border=\"1\" class=\"dataframe\">\n",
              "  <thead>\n",
              "    <tr style=\"text-align: right;\">\n",
              "      <th></th>\n",
              "      <th>carat</th>\n",
              "      <th>cut_ord</th>\n",
              "      <th>clarity_ord</th>\n",
              "      <th>price</th>\n",
              "      <th>D</th>\n",
              "      <th>E</th>\n",
              "      <th>F</th>\n",
              "      <th>G</th>\n",
              "      <th>H</th>\n",
              "      <th>I</th>\n",
              "      <th>J</th>\n",
              "    </tr>\n",
              "  </thead>\n",
              "  <tbody>\n",
              "    <tr>\n",
              "      <th>0</th>\n",
              "      <td>0.51</td>\n",
              "      <td>4</td>\n",
              "      <td>4</td>\n",
              "      <td>1749</td>\n",
              "      <td>0</td>\n",
              "      <td>0</td>\n",
              "      <td>1</td>\n",
              "      <td>0</td>\n",
              "      <td>0</td>\n",
              "      <td>0</td>\n",
              "      <td>0</td>\n",
              "    </tr>\n",
              "    <tr>\n",
              "      <th>1</th>\n",
              "      <td>2.25</td>\n",
              "      <td>1</td>\n",
              "      <td>1</td>\n",
              "      <td>7069</td>\n",
              "      <td>0</td>\n",
              "      <td>0</td>\n",
              "      <td>0</td>\n",
              "      <td>1</td>\n",
              "      <td>0</td>\n",
              "      <td>0</td>\n",
              "      <td>0</td>\n",
              "    </tr>\n",
              "    <tr>\n",
              "      <th>2</th>\n",
              "      <td>0.70</td>\n",
              "      <td>3</td>\n",
              "      <td>5</td>\n",
              "      <td>2757</td>\n",
              "      <td>0</td>\n",
              "      <td>1</td>\n",
              "      <td>0</td>\n",
              "      <td>0</td>\n",
              "      <td>0</td>\n",
              "      <td>0</td>\n",
              "      <td>0</td>\n",
              "    </tr>\n",
              "    <tr>\n",
              "      <th>3</th>\n",
              "      <td>0.47</td>\n",
              "      <td>2</td>\n",
              "      <td>4</td>\n",
              "      <td>1243</td>\n",
              "      <td>0</td>\n",
              "      <td>0</td>\n",
              "      <td>1</td>\n",
              "      <td>0</td>\n",
              "      <td>0</td>\n",
              "      <td>0</td>\n",
              "      <td>0</td>\n",
              "    </tr>\n",
              "    <tr>\n",
              "      <th>4</th>\n",
              "      <td>0.30</td>\n",
              "      <td>5</td>\n",
              "      <td>7</td>\n",
              "      <td>789</td>\n",
              "      <td>0</td>\n",
              "      <td>0</td>\n",
              "      <td>0</td>\n",
              "      <td>1</td>\n",
              "      <td>0</td>\n",
              "      <td>0</td>\n",
              "      <td>0</td>\n",
              "    </tr>\n",
              "  </tbody>\n",
              "</table>\n",
              "</div>"
            ],
            "text/plain": [
              "   carat  cut_ord  clarity_ord  price  D  E  F  G  H  I  J\n",
              "0   0.51        4            4   1749  0  0  1  0  0  0  0\n",
              "1   2.25        1            1   7069  0  0  0  1  0  0  0\n",
              "2   0.70        3            5   2757  0  1  0  0  0  0  0\n",
              "3   0.47        2            4   1243  0  0  1  0  0  0  0\n",
              "4   0.30        5            7    789  0  0  0  1  0  0  0"
            ]
          },
          "metadata": {
            "tags": []
          },
          "execution_count": 91
        }
      ]
    },
    {
      "cell_type": "code",
      "metadata": {
        "id": "GTX6JnMUctrO",
        "colab_type": "code",
        "colab": {
          "base_uri": "https://localhost:8080/",
          "height": 34
        },
        "outputId": "35a68e69-36f6-4c85-9460-384dd808f80d"
      },
      "source": [
        "val_percent=.20\n",
        "batch_size=16\n",
        "torch.manual_seed(2)"
      ],
      "execution_count": 49,
      "outputs": [
        {
          "output_type": "execute_result",
          "data": {
            "text/plain": [
              "<torch._C.Generator at 0x7feab685bf00>"
            ]
          },
          "metadata": {
            "tags": []
          },
          "execution_count": 49
        }
      ]
    },
    {
      "cell_type": "code",
      "metadata": {
        "id": "WKy5K7JwGIEr",
        "colab_type": "code",
        "colab": {
          "base_uri": "https://localhost:8080/",
          "height": 34
        },
        "outputId": "3d22d2ad-e3ff-4436-ca35-5ac7a1531abc"
      },
      "source": [
        "\n",
        "input_cols=data_encoded.columns.values.tolist()\n",
        "input_cols.remove('price')\n",
        "print(input_cols)\n",
        "#input_cols.remove('price')\n",
        "output_col=['price']"
      ],
      "execution_count": 94,
      "outputs": [
        {
          "output_type": "stream",
          "text": [
            "['carat', 'cut_ord', 'clarity_ord', 'D', 'E', 'F', 'G', 'H', 'I', 'J']\n"
          ],
          "name": "stdout"
        }
      ]
    },
    {
      "cell_type": "code",
      "metadata": {
        "id": "MmraNBBqGaLF",
        "colab_type": "code",
        "colab": {}
      },
      "source": [
        "inputs_array= data_encoded[input_cols].to_numpy()\n",
        "output_array=data_encoded[output_col].to_numpy()"
      ],
      "execution_count": 95,
      "outputs": []
    },
    {
      "cell_type": "code",
      "metadata": {
        "id": "OMytqXou-R4J",
        "colab_type": "code",
        "colab": {
          "base_uri": "https://localhost:8080/",
          "height": 51
        },
        "outputId": "ea4b72c6-4dea-4bdf-ca86-242ed774f9d2"
      },
      "source": [
        "print(inputs_array.shape)\n",
        "print(output_array.shape)"
      ],
      "execution_count": 96,
      "outputs": [
        {
          "output_type": "stream",
          "text": [
            "(50000, 10)\n",
            "(50000, 1)\n"
          ],
          "name": "stdout"
        }
      ]
    },
    {
      "cell_type": "code",
      "metadata": {
        "id": "TLGbDKFB--vG",
        "colab_type": "code",
        "colab": {}
      },
      "source": [
        "dataset= TensorDataset(torch.tensor(inputs_array, dtype=torch.float32),torch.tensor(output_array,dtype=torch.float32))"
      ],
      "execution_count": 97,
      "outputs": []
    },
    {
      "cell_type": "code",
      "metadata": {
        "id": "1y-snwtj_bYl",
        "colab_type": "code",
        "colab": {
          "base_uri": "https://localhost:8080/",
          "height": 34
        },
        "outputId": "7afbfa90-21a3-4258-fe23-cf6f2b82a715"
      },
      "source": [
        "val_size=int((inputs_array.shape[0]*val_percent))\n",
        "train_size=(inputs_array.shape[0]-val_size)\n",
        "\n",
        "print(len(dataset))\n",
        "\n",
        "train_ds,val_ds=random_split(dataset,[train_size,val_size])"
      ],
      "execution_count": 98,
      "outputs": [
        {
          "output_type": "stream",
          "text": [
            "50000\n"
          ],
          "name": "stdout"
        }
      ]
    },
    {
      "cell_type": "code",
      "metadata": {
        "id": "tnbZRCkO_6r8",
        "colab_type": "code",
        "colab": {}
      },
      "source": [
        "train_loader= DataLoader(train_ds,batch_size,shuffle=True)\n",
        "val_loader=DataLoader(val_ds,batch_size)"
      ],
      "execution_count": 99,
      "outputs": []
    },
    {
      "cell_type": "code",
      "metadata": {
        "id": "An5GPcIEBUm-",
        "colab_type": "code",
        "colab": {
          "base_uri": "https://localhost:8080/",
          "height": 51
        },
        "outputId": "6da1f762-5d03-47ed-edeb-3a5646a67e1a"
      },
      "source": [
        "for xb,yb in val_loader:\n",
        "  print(xb.shape)\n",
        "  print(yb.shape)\n",
        "  break"
      ],
      "execution_count": 100,
      "outputs": [
        {
          "output_type": "stream",
          "text": [
            "torch.Size([16, 10])\n",
            "torch.Size([16, 1])\n"
          ],
          "name": "stdout"
        }
      ]
    },
    {
      "cell_type": "code",
      "metadata": {
        "id": "tVKRRzsSBjFR",
        "colab_type": "code",
        "colab": {}
      },
      "source": [
        "class DPmodel(nn.Module):\n",
        "  def __init__(self):\n",
        "    super().__init__()\n",
        "    self.linear=nn.Linear(10,1)\n",
        "    \n",
        "\n",
        "\n",
        "  def forward(self,xb):\n",
        "    out=self.linear(xb)\n",
        "    return out\n",
        "\n",
        "  def training_step(self, batch):\n",
        "    inputs, targets = batch \n",
        "    out = self(inputs)                 # Generate predictions\n",
        "    loss = F.mse_loss(out, targets)    # Calculate loss\n",
        "    return loss\n",
        "    \n",
        "  def validation_step(self, batch):\n",
        "    inputs, targets = batch \n",
        "    out = self(inputs)                 # Generate predictions\n",
        "    loss = F.mse_loss(out, targets)\n",
        "    return {'val_loss': loss.detach()}\n",
        "        \n",
        "  def validation_epoch_end(self, outputs):\n",
        "    batch_losses = [x['val_loss'] for x in outputs]\n",
        "    epoch_loss = torch.stack(batch_losses).mean()   # Combine losses\n",
        "    return {'val_loss': epoch_loss.item()}\n",
        "    \n",
        "  def epoch_end(self, epoch, result):\n",
        "    print(\"Epoch [{}], val_loss: {:.4f}\".format(epoch+1, result['val_loss']))\n"
      ],
      "execution_count": 122,
      "outputs": []
    },
    {
      "cell_type": "code",
      "metadata": {
        "id": "SAxMEBQ5Cns1",
        "colab_type": "code",
        "colab": {
          "base_uri": "https://localhost:8080/",
          "height": 85
        },
        "outputId": "2ce1a5b9-8746-4708-fb56-8aeff202907c"
      },
      "source": [
        "model=DPmodel()\n",
        "list(model.parameters())"
      ],
      "execution_count": 123,
      "outputs": [
        {
          "output_type": "execute_result",
          "data": {
            "text/plain": [
              "[Parameter containing:\n",
              " tensor([[-0.1487, -0.0444, -0.0066,  0.2102,  0.1949, -0.2676,  0.0991,  0.0787,\n",
              "           0.1129,  0.1821]], requires_grad=True), Parameter containing:\n",
              " tensor([-0.1432], requires_grad=True)]"
            ]
          },
          "metadata": {
            "tags": []
          },
          "execution_count": 123
        }
      ]
    },
    {
      "cell_type": "code",
      "metadata": {
        "id": "WO1jh_ctDrC5",
        "colab_type": "code",
        "colab": {
          "base_uri": "https://localhost:8080/",
          "height": 561
        },
        "outputId": "3d720d8c-d836-4932-a1a0-ea29d5c9e66e"
      },
      "source": [
        "for inputs, targets in train_loader: \n",
        "  print(targets)\n",
        "  out = model(inputs)                 # Generate predictions\n",
        "  loss = F.mse_loss(out, targets) \n",
        "  print(out)\n",
        "  break\n",
        "\n"
      ],
      "execution_count": 124,
      "outputs": [
        {
          "output_type": "stream",
          "text": [
            "tensor([[ 4369.],\n",
            "        [ 4977.],\n",
            "        [ 1748.],\n",
            "        [10802.],\n",
            "        [ 1597.],\n",
            "        [ 3816.],\n",
            "        [  734.],\n",
            "        [ 1870.],\n",
            "        [ 2267.],\n",
            "        [11419.],\n",
            "        [12225.],\n",
            "        [ 6754.],\n",
            "        [ 9332.],\n",
            "        [ 2928.],\n",
            "        [  462.],\n",
            "        [ 5312.]])\n",
            "tensor([[-0.2982],\n",
            "        [-0.7488],\n",
            "        [-0.6474],\n",
            "        [-0.5268],\n",
            "        [-0.2634],\n",
            "        [-0.2863],\n",
            "        [-0.2337],\n",
            "        [-0.7346],\n",
            "        [-0.6676],\n",
            "        [-0.5541],\n",
            "        [-0.5711],\n",
            "        [-0.4399],\n",
            "        [-0.4615],\n",
            "        [-0.6807],\n",
            "        [-0.1696],\n",
            "        [-0.4264]], grad_fn=<AddmmBackward>)\n"
          ],
          "name": "stdout"
        }
      ]
    },
    {
      "cell_type": "code",
      "metadata": {
        "id": "Rd5_9lP9Dzu1",
        "colab_type": "code",
        "colab": {}
      },
      "source": [
        "def evaluate(model, val_loader):\n",
        "    outputs = [model.validation_step(batch) for batch in val_loader]\n",
        "    return model.validation_epoch_end(outputs)\n",
        "\n",
        "def fit(epochs, lr, model, train_loader, val_loader, opt_func=torch.optim.SGD):\n",
        "    history = []\n",
        "    optimizer = opt_func(model.parameters(), lr)\n",
        "    for epoch in range(epochs):\n",
        "        # Training Phase \n",
        "        for batch in train_loader:\n",
        "            loss = model.training_step(batch)\n",
        "            loss.backward()\n",
        "            optimizer.step()\n",
        "            optimizer.zero_grad()\n",
        "        # Validation phase\n",
        "        result = evaluate(model, val_loader)\n",
        "        model.epoch_end(epoch, result)\n",
        "        history.append(result)\n",
        "    return history\n"
      ],
      "execution_count": 125,
      "outputs": []
    },
    {
      "cell_type": "code",
      "metadata": {
        "id": "dLVS4m1MEFDf",
        "colab_type": "code",
        "colab": {
          "base_uri": "https://localhost:8080/",
          "height": 1000
        },
        "outputId": "3566b750-f3de-42dc-cc9d-bb5f1d98e9db"
      },
      "source": [
        "epochs = 500\n",
        "lr = 1e-4\n",
        "history = fit(epochs, lr, model, train_loader, val_loader)"
      ],
      "execution_count": 126,
      "outputs": [
        {
          "output_type": "stream",
          "text": [
            "Epoch [1], val_loss: 13293903.0000\n",
            "Epoch [2], val_loss: 10554955.0000\n",
            "Epoch [3], val_loss: 8628217.0000\n",
            "Epoch [4], val_loss: 7222366.0000\n",
            "Epoch [5], val_loss: 6182650.0000\n",
            "Epoch [6], val_loss: 5407081.5000\n",
            "Epoch [7], val_loss: 4823005.0000\n",
            "Epoch [8], val_loss: 4379872.0000\n",
            "Epoch [9], val_loss: 4038768.2500\n",
            "Epoch [10], val_loss: 3774884.7500\n",
            "Epoch [11], val_loss: 3566992.5000\n",
            "Epoch [12], val_loss: 3398941.0000\n",
            "Epoch [13], val_loss: 3264804.7500\n",
            "Epoch [14], val_loss: 3150689.5000\n",
            "Epoch [15], val_loss: 3054171.7500\n",
            "Epoch [16], val_loss: 2972030.5000\n",
            "Epoch [17], val_loss: 2899882.7500\n",
            "Epoch [18], val_loss: 2834869.5000\n",
            "Epoch [19], val_loss: 2776913.7500\n",
            "Epoch [20], val_loss: 2722548.2500\n",
            "Epoch [21], val_loss: 2674241.0000\n",
            "Epoch [22], val_loss: 2627214.0000\n",
            "Epoch [23], val_loss: 2583822.5000\n",
            "Epoch [24], val_loss: 2543105.5000\n",
            "Epoch [25], val_loss: 2505799.2500\n",
            "Epoch [26], val_loss: 2468317.0000\n",
            "Epoch [27], val_loss: 2431665.5000\n",
            "Epoch [28], val_loss: 2397988.7500\n",
            "Epoch [29], val_loss: 2365977.7500\n",
            "Epoch [30], val_loss: 2336070.7500\n",
            "Epoch [31], val_loss: 2305263.2500\n",
            "Epoch [32], val_loss: 2276695.7500\n",
            "Epoch [33], val_loss: 2250473.5000\n",
            "Epoch [34], val_loss: 2222863.2500\n",
            "Epoch [35], val_loss: 2197685.0000\n",
            "Epoch [36], val_loss: 2173220.7500\n",
            "Epoch [37], val_loss: 2149662.0000\n",
            "Epoch [38], val_loss: 2126856.7500\n",
            "Epoch [39], val_loss: 2104934.7500\n",
            "Epoch [40], val_loss: 2083868.5000\n",
            "Epoch [41], val_loss: 2064208.7500\n",
            "Epoch [42], val_loss: 2044515.7500\n",
            "Epoch [43], val_loss: 2025289.8750\n",
            "Epoch [44], val_loss: 2008883.8750\n",
            "Epoch [45], val_loss: 1990041.6250\n",
            "Epoch [46], val_loss: 1972766.8750\n",
            "Epoch [47], val_loss: 1956891.0000\n",
            "Epoch [48], val_loss: 1941175.2500\n",
            "Epoch [49], val_loss: 1927452.8750\n",
            "Epoch [50], val_loss: 1912431.0000\n",
            "Epoch [51], val_loss: 1897270.6250\n",
            "Epoch [52], val_loss: 1883964.8750\n",
            "Epoch [53], val_loss: 1871140.2500\n",
            "Epoch [54], val_loss: 1858222.2500\n",
            "Epoch [55], val_loss: 1846375.0000\n",
            "Epoch [56], val_loss: 1834504.2500\n",
            "Epoch [57], val_loss: 1823134.2500\n",
            "Epoch [58], val_loss: 1813291.2500\n",
            "Epoch [59], val_loss: 1801853.7500\n",
            "Epoch [60], val_loss: 1791854.0000\n",
            "Epoch [61], val_loss: 1782030.3750\n",
            "Epoch [62], val_loss: 1772821.2500\n",
            "Epoch [63], val_loss: 1763651.1250\n",
            "Epoch [64], val_loss: 1755377.0000\n",
            "Epoch [65], val_loss: 1748022.5000\n",
            "Epoch [66], val_loss: 1738735.8750\n",
            "Epoch [67], val_loss: 1730608.1250\n",
            "Epoch [68], val_loss: 1723252.5000\n",
            "Epoch [69], val_loss: 1715792.7500\n",
            "Epoch [70], val_loss: 1709555.3750\n",
            "Epoch [71], val_loss: 1702162.5000\n",
            "Epoch [72], val_loss: 1695669.5000\n",
            "Epoch [73], val_loss: 1689934.5000\n",
            "Epoch [74], val_loss: 1683797.7500\n",
            "Epoch [75], val_loss: 1677487.0000\n",
            "Epoch [76], val_loss: 1672475.7500\n",
            "Epoch [77], val_loss: 1666557.8750\n",
            "Epoch [78], val_loss: 1661843.0000\n",
            "Epoch [79], val_loss: 1656252.2500\n",
            "Epoch [80], val_loss: 1651483.7500\n",
            "Epoch [81], val_loss: 1646751.2500\n",
            "Epoch [82], val_loss: 1642389.0000\n",
            "Epoch [83], val_loss: 1638039.3750\n",
            "Epoch [84], val_loss: 1633957.2500\n",
            "Epoch [85], val_loss: 1629819.7500\n",
            "Epoch [86], val_loss: 1625914.0000\n",
            "Epoch [87], val_loss: 1622945.2500\n",
            "Epoch [88], val_loss: 1618678.7500\n",
            "Epoch [89], val_loss: 1615562.0000\n",
            "Epoch [90], val_loss: 1611596.2500\n",
            "Epoch [91], val_loss: 1608401.0000\n",
            "Epoch [92], val_loss: 1605289.5000\n",
            "Epoch [93], val_loss: 1603009.7500\n",
            "Epoch [94], val_loss: 1599408.8750\n",
            "Epoch [95], val_loss: 1596572.1250\n",
            "Epoch [96], val_loss: 1594706.3750\n",
            "Epoch [97], val_loss: 1591338.0000\n",
            "Epoch [98], val_loss: 1589056.6250\n",
            "Epoch [99], val_loss: 1586467.2500\n",
            "Epoch [100], val_loss: 1584329.2500\n",
            "Epoch [101], val_loss: 1582382.7500\n",
            "Epoch [102], val_loss: 1579936.7500\n",
            "Epoch [103], val_loss: 1577807.5000\n",
            "Epoch [104], val_loss: 1578922.5000\n",
            "Epoch [105], val_loss: 1573694.6250\n",
            "Epoch [106], val_loss: 1571929.8750\n",
            "Epoch [107], val_loss: 1571093.6250\n",
            "Epoch [108], val_loss: 1568420.1250\n",
            "Epoch [109], val_loss: 1567336.5000\n",
            "Epoch [110], val_loss: 1565398.6250\n",
            "Epoch [111], val_loss: 1563557.2500\n",
            "Epoch [112], val_loss: 1562174.7500\n",
            "Epoch [113], val_loss: 1560822.6250\n",
            "Epoch [114], val_loss: 1559299.6250\n",
            "Epoch [115], val_loss: 1557959.2500\n",
            "Epoch [116], val_loss: 1556888.6250\n",
            "Epoch [117], val_loss: 1555511.8750\n",
            "Epoch [118], val_loss: 1554564.8750\n",
            "Epoch [119], val_loss: 1553117.5000\n",
            "Epoch [120], val_loss: 1552125.7500\n",
            "Epoch [121], val_loss: 1550936.6250\n",
            "Epoch [122], val_loss: 1550114.7500\n",
            "Epoch [123], val_loss: 1549562.0000\n",
            "Epoch [124], val_loss: 1548063.5000\n",
            "Epoch [125], val_loss: 1547350.2500\n",
            "Epoch [126], val_loss: 1546536.3750\n",
            "Epoch [127], val_loss: 1545537.3750\n",
            "Epoch [128], val_loss: 1544557.6250\n",
            "Epoch [129], val_loss: 1543955.7500\n",
            "Epoch [130], val_loss: 1543269.3750\n",
            "Epoch [131], val_loss: 1542487.3750\n",
            "Epoch [132], val_loss: 1541890.1250\n",
            "Epoch [133], val_loss: 1541021.7500\n",
            "Epoch [134], val_loss: 1540379.5000\n",
            "Epoch [135], val_loss: 1539675.7500\n",
            "Epoch [136], val_loss: 1539750.2500\n",
            "Epoch [137], val_loss: 1538475.7500\n",
            "Epoch [138], val_loss: 1537941.0000\n",
            "Epoch [139], val_loss: 1537613.7500\n",
            "Epoch [140], val_loss: 1536906.8750\n",
            "Epoch [141], val_loss: 1536958.0000\n",
            "Epoch [142], val_loss: 1536161.5000\n",
            "Epoch [143], val_loss: 1535459.6250\n",
            "Epoch [144], val_loss: 1535134.8750\n",
            "Epoch [145], val_loss: 1536811.7500\n",
            "Epoch [146], val_loss: 1534426.1250\n",
            "Epoch [147], val_loss: 1534322.3750\n",
            "Epoch [148], val_loss: 1533635.7500\n",
            "Epoch [149], val_loss: 1533124.3750\n",
            "Epoch [150], val_loss: 1532721.3750\n",
            "Epoch [151], val_loss: 1532527.2500\n",
            "Epoch [152], val_loss: 1532076.5000\n",
            "Epoch [153], val_loss: 1533307.0000\n",
            "Epoch [154], val_loss: 1532018.2500\n",
            "Epoch [155], val_loss: 1531158.3750\n",
            "Epoch [156], val_loss: 1530953.5000\n",
            "Epoch [157], val_loss: 1530696.7500\n",
            "Epoch [158], val_loss: 1530408.7500\n",
            "Epoch [159], val_loss: 1530326.6250\n",
            "Epoch [160], val_loss: 1530220.0000\n",
            "Epoch [161], val_loss: 1530294.7500\n",
            "Epoch [162], val_loss: 1529838.1250\n",
            "Epoch [163], val_loss: 1529244.6250\n",
            "Epoch [164], val_loss: 1529049.7500\n",
            "Epoch [165], val_loss: 1528851.0000\n",
            "Epoch [166], val_loss: 1528678.0000\n",
            "Epoch [167], val_loss: 1528489.3750\n",
            "Epoch [168], val_loss: 1528800.6250\n",
            "Epoch [169], val_loss: 1528375.2500\n",
            "Epoch [170], val_loss: 1528902.0000\n",
            "Epoch [171], val_loss: 1527870.5000\n",
            "Epoch [172], val_loss: 1527924.6250\n",
            "Epoch [173], val_loss: 1527746.1250\n",
            "Epoch [174], val_loss: 1528041.0000\n",
            "Epoch [175], val_loss: 1527285.8750\n",
            "Epoch [176], val_loss: 1527261.8750\n",
            "Epoch [177], val_loss: 1527361.5000\n",
            "Epoch [178], val_loss: 1527168.8750\n",
            "Epoch [179], val_loss: 1526901.0000\n",
            "Epoch [180], val_loss: 1526854.7500\n",
            "Epoch [181], val_loss: 1527835.3750\n",
            "Epoch [182], val_loss: 1526899.5000\n",
            "Epoch [183], val_loss: 1526558.8750\n",
            "Epoch [184], val_loss: 1526403.1250\n",
            "Epoch [185], val_loss: 1527429.6250\n",
            "Epoch [186], val_loss: 1526896.3750\n",
            "Epoch [187], val_loss: 1526533.1250\n",
            "Epoch [188], val_loss: 1526209.3750\n",
            "Epoch [189], val_loss: 1526211.6250\n",
            "Epoch [190], val_loss: 1526164.6250\n",
            "Epoch [191], val_loss: 1525887.7500\n",
            "Epoch [192], val_loss: 1525816.2500\n",
            "Epoch [193], val_loss: 1526049.2500\n",
            "Epoch [194], val_loss: 1525825.3750\n",
            "Epoch [195], val_loss: 1526463.7500\n",
            "Epoch [196], val_loss: 1525702.0000\n",
            "Epoch [197], val_loss: 1525874.2500\n",
            "Epoch [198], val_loss: 1525572.1250\n",
            "Epoch [199], val_loss: 1525581.2500\n",
            "Epoch [200], val_loss: 1525579.5000\n",
            "Epoch [201], val_loss: 1525392.8750\n",
            "Epoch [202], val_loss: 1525316.5000\n",
            "Epoch [203], val_loss: 1525641.0000\n",
            "Epoch [204], val_loss: 1525310.0000\n",
            "Epoch [205], val_loss: 1525254.1250\n",
            "Epoch [206], val_loss: 1525201.6250\n",
            "Epoch [207], val_loss: 1525089.6250\n",
            "Epoch [208], val_loss: 1525638.2500\n",
            "Epoch [209], val_loss: 1525067.2500\n",
            "Epoch [210], val_loss: 1525446.8750\n",
            "Epoch [211], val_loss: 1525047.6250\n",
            "Epoch [212], val_loss: 1525036.5000\n",
            "Epoch [213], val_loss: 1524974.7500\n",
            "Epoch [214], val_loss: 1525025.7500\n",
            "Epoch [215], val_loss: 1525330.8750\n",
            "Epoch [216], val_loss: 1525327.1250\n",
            "Epoch [217], val_loss: 1525012.6250\n",
            "Epoch [218], val_loss: 1525021.7500\n",
            "Epoch [219], val_loss: 1524923.5000\n",
            "Epoch [220], val_loss: 1525170.3750\n",
            "Epoch [221], val_loss: 1526400.2500\n",
            "Epoch [222], val_loss: 1524812.7500\n",
            "Epoch [223], val_loss: 1524938.0000\n",
            "Epoch [224], val_loss: 1525609.6250\n",
            "Epoch [225], val_loss: 1525088.8750\n",
            "Epoch [226], val_loss: 1524778.6250\n",
            "Epoch [227], val_loss: 1525351.3750\n",
            "Epoch [228], val_loss: 1525028.1250\n",
            "Epoch [229], val_loss: 1524795.7500\n",
            "Epoch [230], val_loss: 1524920.3750\n",
            "Epoch [231], val_loss: 1524754.1250\n",
            "Epoch [232], val_loss: 1524835.0000\n",
            "Epoch [233], val_loss: 1524726.0000\n",
            "Epoch [234], val_loss: 1525073.5000\n",
            "Epoch [235], val_loss: 1524770.8750\n",
            "Epoch [236], val_loss: 1525283.6250\n",
            "Epoch [237], val_loss: 1525144.0000\n",
            "Epoch [238], val_loss: 1525013.0000\n",
            "Epoch [239], val_loss: 1524727.3750\n",
            "Epoch [240], val_loss: 1524963.5000\n",
            "Epoch [241], val_loss: 1525077.6250\n",
            "Epoch [242], val_loss: 1524716.0000\n",
            "Epoch [243], val_loss: 1525018.6250\n",
            "Epoch [244], val_loss: 1524666.3750\n",
            "Epoch [245], val_loss: 1524950.0000\n",
            "Epoch [246], val_loss: 1525985.6250\n",
            "Epoch [247], val_loss: 1524725.7500\n",
            "Epoch [248], val_loss: 1525170.8750\n",
            "Epoch [249], val_loss: 1524817.8750\n",
            "Epoch [250], val_loss: 1524955.1250\n",
            "Epoch [251], val_loss: 1525210.3750\n",
            "Epoch [252], val_loss: 1524675.1250\n",
            "Epoch [253], val_loss: 1524710.7500\n",
            "Epoch [254], val_loss: 1524753.8750\n",
            "Epoch [255], val_loss: 1524772.6250\n",
            "Epoch [256], val_loss: 1524656.5000\n",
            "Epoch [257], val_loss: 1525685.0000\n",
            "Epoch [258], val_loss: 1524868.7500\n",
            "Epoch [259], val_loss: 1525041.0000\n",
            "Epoch [260], val_loss: 1524730.2500\n",
            "Epoch [261], val_loss: 1524700.2500\n",
            "Epoch [262], val_loss: 1524849.7500\n",
            "Epoch [263], val_loss: 1524707.3750\n",
            "Epoch [264], val_loss: 1525297.5000\n",
            "Epoch [265], val_loss: 1526180.0000\n",
            "Epoch [266], val_loss: 1524759.5000\n",
            "Epoch [267], val_loss: 1524806.5000\n",
            "Epoch [268], val_loss: 1524727.6250\n",
            "Epoch [269], val_loss: 1524731.8750\n",
            "Epoch [270], val_loss: 1524685.8750\n",
            "Epoch [271], val_loss: 1524763.3750\n",
            "Epoch [272], val_loss: 1524747.7500\n",
            "Epoch [273], val_loss: 1524683.7500\n",
            "Epoch [274], val_loss: 1525103.0000\n",
            "Epoch [275], val_loss: 1524973.1250\n",
            "Epoch [276], val_loss: 1524735.3750\n",
            "Epoch [277], val_loss: 1525531.8750\n",
            "Epoch [278], val_loss: 1525063.1250\n",
            "Epoch [279], val_loss: 1525171.8750\n",
            "Epoch [280], val_loss: 1526932.3750\n",
            "Epoch [281], val_loss: 1524714.1250\n",
            "Epoch [282], val_loss: 1524851.8750\n",
            "Epoch [283], val_loss: 1524690.7500\n",
            "Epoch [284], val_loss: 1524786.0000\n",
            "Epoch [285], val_loss: 1524763.5000\n",
            "Epoch [286], val_loss: 1525651.6250\n",
            "Epoch [287], val_loss: 1524706.3750\n",
            "Epoch [288], val_loss: 1524749.6250\n",
            "Epoch [289], val_loss: 1524736.2500\n",
            "Epoch [290], val_loss: 1525660.7500\n",
            "Epoch [291], val_loss: 1525580.8750\n",
            "Epoch [292], val_loss: 1524739.3750\n",
            "Epoch [293], val_loss: 1524857.3750\n",
            "Epoch [294], val_loss: 1525008.8750\n",
            "Epoch [295], val_loss: 1524765.3750\n",
            "Epoch [296], val_loss: 1525257.7500\n",
            "Epoch [297], val_loss: 1524928.5000\n",
            "Epoch [298], val_loss: 1524788.3750\n",
            "Epoch [299], val_loss: 1524780.5000\n",
            "Epoch [300], val_loss: 1526132.6250\n",
            "Epoch [301], val_loss: 1524764.5000\n",
            "Epoch [302], val_loss: 1525755.7500\n",
            "Epoch [303], val_loss: 1524800.8750\n",
            "Epoch [304], val_loss: 1524783.8750\n",
            "Epoch [305], val_loss: 1525665.8750\n",
            "Epoch [306], val_loss: 1524942.5000\n",
            "Epoch [307], val_loss: 1524838.8750\n",
            "Epoch [308], val_loss: 1525392.1250\n",
            "Epoch [309], val_loss: 1524948.0000\n",
            "Epoch [310], val_loss: 1525307.7500\n",
            "Epoch [311], val_loss: 1524799.6250\n",
            "Epoch [312], val_loss: 1525148.7500\n",
            "Epoch [313], val_loss: 1524803.6250\n",
            "Epoch [314], val_loss: 1525648.1250\n",
            "Epoch [315], val_loss: 1524879.8750\n",
            "Epoch [316], val_loss: 1525091.1250\n",
            "Epoch [317], val_loss: 1524838.2500\n",
            "Epoch [318], val_loss: 1525704.3750\n",
            "Epoch [319], val_loss: 1524809.0000\n",
            "Epoch [320], val_loss: 1525064.2500\n",
            "Epoch [321], val_loss: 1525015.5000\n",
            "Epoch [322], val_loss: 1524836.5000\n",
            "Epoch [323], val_loss: 1524975.1250\n",
            "Epoch [324], val_loss: 1525399.3750\n",
            "Epoch [325], val_loss: 1525119.7500\n",
            "Epoch [326], val_loss: 1524823.6250\n",
            "Epoch [327], val_loss: 1524885.2500\n",
            "Epoch [328], val_loss: 1524852.8750\n",
            "Epoch [329], val_loss: 1524843.0000\n",
            "Epoch [330], val_loss: 1524853.6250\n",
            "Epoch [331], val_loss: 1526579.8750\n",
            "Epoch [332], val_loss: 1525282.5000\n",
            "Epoch [333], val_loss: 1525798.1250\n",
            "Epoch [334], val_loss: 1524945.5000\n",
            "Epoch [335], val_loss: 1525375.1250\n",
            "Epoch [336], val_loss: 1524845.7500\n",
            "Epoch [337], val_loss: 1524892.8750\n",
            "Epoch [338], val_loss: 1524874.5000\n",
            "Epoch [339], val_loss: 1524868.2500\n",
            "Epoch [340], val_loss: 1524943.3750\n",
            "Epoch [341], val_loss: 1525161.1250\n",
            "Epoch [342], val_loss: 1525153.3750\n",
            "Epoch [343], val_loss: 1525922.5000\n",
            "Epoch [344], val_loss: 1524901.8750\n",
            "Epoch [345], val_loss: 1524928.8750\n",
            "Epoch [346], val_loss: 1524866.3750\n",
            "Epoch [347], val_loss: 1525264.6250\n",
            "Epoch [348], val_loss: 1524844.0000\n",
            "Epoch [349], val_loss: 1525205.7500\n",
            "Epoch [350], val_loss: 1524973.0000\n",
            "Epoch [351], val_loss: 1528966.8750\n",
            "Epoch [352], val_loss: 1524872.7500\n",
            "Epoch [353], val_loss: 1524860.0000\n",
            "Epoch [354], val_loss: 1525946.3750\n",
            "Epoch [355], val_loss: 1525491.7500\n",
            "Epoch [356], val_loss: 1525760.6250\n",
            "Epoch [357], val_loss: 1524887.7500\n",
            "Epoch [358], val_loss: 1525057.8750\n",
            "Epoch [359], val_loss: 1525402.5000\n",
            "Epoch [360], val_loss: 1524895.5000\n",
            "Epoch [361], val_loss: 1525056.0000\n",
            "Epoch [362], val_loss: 1525082.8750\n",
            "Epoch [363], val_loss: 1524907.2500\n",
            "Epoch [364], val_loss: 1525470.0000\n",
            "Epoch [365], val_loss: 1524886.2500\n",
            "Epoch [366], val_loss: 1525098.3750\n",
            "Epoch [367], val_loss: 1526138.0000\n",
            "Epoch [368], val_loss: 1525619.1250\n",
            "Epoch [369], val_loss: 1525120.3750\n",
            "Epoch [370], val_loss: 1524950.6250\n",
            "Epoch [371], val_loss: 1524909.8750\n",
            "Epoch [372], val_loss: 1524947.0000\n",
            "Epoch [373], val_loss: 1524895.6250\n",
            "Epoch [374], val_loss: 1526252.0000\n",
            "Epoch [375], val_loss: 1525635.7500\n",
            "Epoch [376], val_loss: 1524891.2500\n",
            "Epoch [377], val_loss: 1525645.8750\n",
            "Epoch [378], val_loss: 1525020.0000\n",
            "Epoch [379], val_loss: 1525156.1250\n",
            "Epoch [380], val_loss: 1525309.7500\n",
            "Epoch [381], val_loss: 1524892.6250\n",
            "Epoch [382], val_loss: 1524979.5000\n",
            "Epoch [383], val_loss: 1524927.1250\n",
            "Epoch [384], val_loss: 1524937.5000\n",
            "Epoch [385], val_loss: 1525173.3750\n",
            "Epoch [386], val_loss: 1524981.0000\n",
            "Epoch [387], val_loss: 1524948.3750\n",
            "Epoch [388], val_loss: 1524930.1250\n",
            "Epoch [389], val_loss: 1525006.5000\n",
            "Epoch [390], val_loss: 1526647.2500\n",
            "Epoch [391], val_loss: 1524948.6250\n",
            "Epoch [392], val_loss: 1524922.7500\n",
            "Epoch [393], val_loss: 1526686.6250\n",
            "Epoch [394], val_loss: 1525640.3750\n",
            "Epoch [395], val_loss: 1524998.2500\n",
            "Epoch [396], val_loss: 1524902.6250\n",
            "Epoch [397], val_loss: 1524932.8750\n",
            "Epoch [398], val_loss: 1524894.2500\n",
            "Epoch [399], val_loss: 1524919.0000\n",
            "Epoch [400], val_loss: 1525200.3750\n",
            "Epoch [401], val_loss: 1524968.6250\n",
            "Epoch [402], val_loss: 1525170.1250\n",
            "Epoch [403], val_loss: 1524984.6250\n",
            "Epoch [404], val_loss: 1525344.0000\n",
            "Epoch [405], val_loss: 1525366.1250\n",
            "Epoch [406], val_loss: 1524914.7500\n",
            "Epoch [407], val_loss: 1524942.5000\n",
            "Epoch [408], val_loss: 1525303.2500\n",
            "Epoch [409], val_loss: 1525443.2500\n",
            "Epoch [410], val_loss: 1524921.8750\n",
            "Epoch [411], val_loss: 1525882.2500\n",
            "Epoch [412], val_loss: 1525445.6250\n",
            "Epoch [413], val_loss: 1524923.5000\n",
            "Epoch [414], val_loss: 1525235.1250\n",
            "Epoch [415], val_loss: 1525076.1250\n",
            "Epoch [416], val_loss: 1525165.8750\n",
            "Epoch [417], val_loss: 1524973.5000\n",
            "Epoch [418], val_loss: 1525381.6250\n",
            "Epoch [419], val_loss: 1525495.2500\n",
            "Epoch [420], val_loss: 1525099.8750\n",
            "Epoch [421], val_loss: 1525163.5000\n",
            "Epoch [422], val_loss: 1526996.6250\n",
            "Epoch [423], val_loss: 1524962.2500\n",
            "Epoch [424], val_loss: 1525030.8750\n",
            "Epoch [425], val_loss: 1525020.2500\n",
            "Epoch [426], val_loss: 1524913.0000\n",
            "Epoch [427], val_loss: 1524926.1250\n",
            "Epoch [428], val_loss: 1524920.6250\n",
            "Epoch [429], val_loss: 1525848.0000\n",
            "Epoch [430], val_loss: 1524965.3750\n",
            "Epoch [431], val_loss: 1525404.7500\n",
            "Epoch [432], val_loss: 1525171.8750\n",
            "Epoch [433], val_loss: 1525364.6250\n",
            "Epoch [434], val_loss: 1525485.0000\n",
            "Epoch [435], val_loss: 1525109.8750\n",
            "Epoch [436], val_loss: 1525029.6250\n",
            "Epoch [437], val_loss: 1525177.5000\n",
            "Epoch [438], val_loss: 1525054.1250\n",
            "Epoch [439], val_loss: 1525555.7500\n",
            "Epoch [440], val_loss: 1525225.6250\n",
            "Epoch [441], val_loss: 1525127.3750\n",
            "Epoch [442], val_loss: 1525988.2500\n",
            "Epoch [443], val_loss: 1525077.7500\n",
            "Epoch [444], val_loss: 1525959.6250\n",
            "Epoch [445], val_loss: 1524957.0000\n",
            "Epoch [446], val_loss: 1524937.8750\n",
            "Epoch [447], val_loss: 1527187.5000\n",
            "Epoch [448], val_loss: 1525605.0000\n",
            "Epoch [449], val_loss: 1525517.5000\n",
            "Epoch [450], val_loss: 1525198.2500\n",
            "Epoch [451], val_loss: 1525133.2500\n",
            "Epoch [452], val_loss: 1525650.1250\n",
            "Epoch [453], val_loss: 1524962.7500\n",
            "Epoch [454], val_loss: 1526041.3750\n",
            "Epoch [455], val_loss: 1526229.2500\n",
            "Epoch [456], val_loss: 1525017.3750\n",
            "Epoch [457], val_loss: 1524942.2500\n",
            "Epoch [458], val_loss: 1525115.5000\n",
            "Epoch [459], val_loss: 1524983.6250\n",
            "Epoch [460], val_loss: 1524943.1250\n",
            "Epoch [461], val_loss: 1524996.1250\n",
            "Epoch [462], val_loss: 1525640.5000\n",
            "Epoch [463], val_loss: 1525752.1250\n",
            "Epoch [464], val_loss: 1525050.1250\n",
            "Epoch [465], val_loss: 1525618.7500\n",
            "Epoch [466], val_loss: 1525296.5000\n",
            "Epoch [467], val_loss: 1524938.2500\n",
            "Epoch [468], val_loss: 1525146.6250\n",
            "Epoch [469], val_loss: 1525868.8750\n",
            "Epoch [470], val_loss: 1525430.6250\n",
            "Epoch [471], val_loss: 1524965.6250\n",
            "Epoch [472], val_loss: 1525005.2500\n",
            "Epoch [473], val_loss: 1525256.8750\n",
            "Epoch [474], val_loss: 1525209.2500\n",
            "Epoch [475], val_loss: 1524938.2500\n",
            "Epoch [476], val_loss: 1525023.2500\n",
            "Epoch [477], val_loss: 1525649.6250\n",
            "Epoch [478], val_loss: 1525819.5000\n",
            "Epoch [479], val_loss: 1525340.3750\n",
            "Epoch [480], val_loss: 1525134.2500\n",
            "Epoch [481], val_loss: 1525144.8750\n",
            "Epoch [482], val_loss: 1525009.5000\n",
            "Epoch [483], val_loss: 1525551.6250\n",
            "Epoch [484], val_loss: 1525080.3750\n",
            "Epoch [485], val_loss: 1525202.7500\n",
            "Epoch [486], val_loss: 1524927.3750\n",
            "Epoch [487], val_loss: 1524955.5000\n",
            "Epoch [488], val_loss: 1525180.5000\n",
            "Epoch [489], val_loss: 1525882.6250\n",
            "Epoch [490], val_loss: 1525436.3750\n",
            "Epoch [491], val_loss: 1525519.5000\n",
            "Epoch [492], val_loss: 1524977.5000\n",
            "Epoch [493], val_loss: 1525038.1250\n",
            "Epoch [494], val_loss: 1527668.3750\n",
            "Epoch [495], val_loss: 1525108.8750\n",
            "Epoch [496], val_loss: 1525698.5000\n",
            "Epoch [497], val_loss: 1526145.3750\n",
            "Epoch [498], val_loss: 1524923.2500\n",
            "Epoch [499], val_loss: 1526482.8750\n",
            "Epoch [500], val_loss: 1525324.2500\n"
          ],
          "name": "stdout"
        }
      ]
    },
    {
      "cell_type": "code",
      "metadata": {
        "id": "tNN9dHxBEQG4",
        "colab_type": "code",
        "colab": {}
      },
      "source": [
        "  "
      ],
      "execution_count": null,
      "outputs": []
    }
  ]
}