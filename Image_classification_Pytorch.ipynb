{
  "nbformat": 4,
  "nbformat_minor": 0,
  "metadata": {
    "colab": {
      "name": "Image classification Pytorch.ipynb",
      "provenance": [],
      "authorship_tag": "ABX9TyPj6EGKsrxX/tf1eEJRSgyB",
      "include_colab_link": true
    },
    "kernelspec": {
      "name": "python3",
      "display_name": "Python 3"
    }
  },
  "cells": [
    {
      "cell_type": "markdown",
      "metadata": {
        "id": "view-in-github",
        "colab_type": "text"
      },
      "source": [
        "<a href=\"https://colab.research.google.com/github/rajeevfromkrec/pytorch/blob/master/Image_classification_Pytorch.ipynb\" target=\"_parent\"><img src=\"https://colab.research.google.com/assets/colab-badge.svg\" alt=\"Open In Colab\"/></a>"
      ]
    },
    {
      "cell_type": "code",
      "metadata": {
        "id": "RyICfqvnXHgb",
        "colab_type": "code",
        "colab": {}
      },
      "source": [
        "import torch\n",
        "import torchvision\n",
        "from torchvision.datasets import MNIST"
      ],
      "execution_count": 14,
      "outputs": []
    },
    {
      "cell_type": "code",
      "metadata": {
        "id": "dyoOJ8oxXZtT",
        "colab_type": "code",
        "colab": {}
      },
      "source": [
        "dataset= MNIST(root='data/',download=True)"
      ],
      "execution_count": 15,
      "outputs": []
    },
    {
      "cell_type": "code",
      "metadata": {
        "id": "V42tyXUBX4Sr",
        "colab_type": "code",
        "colab": {
          "base_uri": "https://localhost:8080/",
          "height": 35
        },
        "outputId": "e6900c32-01a0-46d4-d2fd-7af9182ae069"
      },
      "source": [
        "len(dataset)"
      ],
      "execution_count": 16,
      "outputs": [
        {
          "output_type": "execute_result",
          "data": {
            "text/plain": [
              "60000"
            ]
          },
          "metadata": {
            "tags": []
          },
          "execution_count": 16
        }
      ]
    },
    {
      "cell_type": "code",
      "metadata": {
        "id": "CweU3wqqYArU",
        "colab_type": "code",
        "colab": {}
      },
      "source": [
        "test_dataset= MNIST(root='data/' ,train=False)"
      ],
      "execution_count": 17,
      "outputs": []
    },
    {
      "cell_type": "code",
      "metadata": {
        "id": "1zhQnceRYL9N",
        "colab_type": "code",
        "colab": {
          "base_uri": "https://localhost:8080/",
          "height": 35
        },
        "outputId": "f897e589-6dbd-45f1-c0a8-d51d1ae637a5"
      },
      "source": [
        "len(test_dataset)"
      ],
      "execution_count": 18,
      "outputs": [
        {
          "output_type": "execute_result",
          "data": {
            "text/plain": [
              "10000"
            ]
          },
          "metadata": {
            "tags": []
          },
          "execution_count": 18
        }
      ]
    },
    {
      "cell_type": "code",
      "metadata": {
        "id": "ab_AXqoLYOnX",
        "colab_type": "code",
        "colab": {
          "base_uri": "https://localhost:8080/",
          "height": 35
        },
        "outputId": "eedd4741-5a4b-4b37-ed02-463284047421"
      },
      "source": [
        "dataset[0]"
      ],
      "execution_count": 19,
      "outputs": [
        {
          "output_type": "execute_result",
          "data": {
            "text/plain": [
              "(<PIL.Image.Image image mode=L size=28x28 at 0x7F125851BE80>, 5)"
            ]
          },
          "metadata": {
            "tags": []
          },
          "execution_count": 19
        }
      ]
    },
    {
      "cell_type": "code",
      "metadata": {
        "id": "2uQltTPNYcDl",
        "colab_type": "code",
        "colab": {}
      },
      "source": [
        "import matplotlib.pyplot as plt\n",
        "%matplotlib inline"
      ],
      "execution_count": 20,
      "outputs": []
    },
    {
      "cell_type": "code",
      "metadata": {
        "id": "R_tP47D2Y5w5",
        "colab_type": "code",
        "colab": {
          "base_uri": "https://localhost:8080/",
          "height": 283
        },
        "outputId": "c3c7c101-3ccf-4f51-f0fe-8c66e2f8a92d"
      },
      "source": [
        "image, label= dataset[0]\n",
        "plt.imshow(image, cmap='gray')"
      ],
      "execution_count": 21,
      "outputs": [
        {
          "output_type": "execute_result",
          "data": {
            "text/plain": [
              "<matplotlib.image.AxesImage at 0x7f125848e390>"
            ]
          },
          "metadata": {
            "tags": []
          },
          "execution_count": 21
        },
        {
          "output_type": "display_data",
          "data": {
            "image/png": "[encoded data removed]",
            "text/plain": [
              "<Figure size 432x288 with 1 Axes>"
            ]
          },
          "metadata": {
            "tags": [],
            "needs_background": "light"
          }
        }
      ]
    },
    {
      "cell_type": "code",
      "metadata": {
        "id": "gF7I5-NCZKE7",
        "colab_type": "code",
        "colab": {}
      },
      "source": [
        "import torchvision.transforms as transforms"
      ],
      "execution_count": 22,
      "outputs": []
    },
    {
      "cell_type": "code",
      "metadata": {
        "id": "1zUBFBatZhan",
        "colab_type": "code",
        "colab": {}
      },
      "source": [
        "dataset= MNIST(root='data/',transform=transforms.ToTensor(),train=True)"
      ],
      "execution_count": 23,
      "outputs": []
    },
    {
      "cell_type": "code",
      "metadata": {
        "id": "K-pde1KUZ7ua",
        "colab_type": "code",
        "colab": {
          "base_uri": "https://localhost:8080/",
          "height": 35
        },
        "outputId": "c452198b-fc18-47db-b150-0e60093afbd0"
      },
      "source": [
        "image_tensor, label =dataset[0]\n",
        "image_tensor.shape"
      ],
      "execution_count": 24,
      "outputs": [
        {
          "output_type": "execute_result",
          "data": {
            "text/plain": [
              "torch.Size([1, 28, 28])"
            ]
          },
          "metadata": {
            "tags": []
          },
          "execution_count": 24
        }
      ]
    },
    {
      "cell_type": "code",
      "metadata": {
        "id": "NXfAgg99aM4u",
        "colab_type": "code",
        "colab": {
          "base_uri": "https://localhost:8080/",
          "height": 283
        },
        "outputId": "140430e8-122f-4959-f40e-c00dc5920aa4"
      },
      "source": [
        "plt.imshow(image_tensor.reshape(28,28), cmap='gray')"
      ],
      "execution_count": 25,
      "outputs": [
        {
          "output_type": "execute_result",
          "data": {
            "text/plain": [
              "<matplotlib.image.AxesImage at 0x7f12584704e0>"
            ]
          },
          "metadata": {
            "tags": []
          },
          "execution_count": 25
        },
        {
          "output_type": "display_data",
          "data": {
            "image/png": "[encoded data removed]",
            "text/plain": [
              "<Figure size 432x288 with 1 Axes>"
            ]
          },
          "metadata": {
            "tags": [],
            "needs_background": "light"
          }
        }
      ]
    },
    {
      "cell_type": "code",
      "metadata": {
        "id": "TQeB2GXubTcA",
        "colab_type": "code",
        "colab": {
          "base_uri": "https://localhost:8080/",
          "height": 265
        },
        "outputId": "e0c83be8-3edd-48c3-8db7-5425661e13c2"
      },
      "source": [
        "plt.imshow(image_tensor[0,10:15,10:15], cmap='gray');\n"
      ],
      "execution_count": 26,
      "outputs": [
        {
          "output_type": "display_data",
          "data": {
            "image/png": "[encoded data removed]",
            "text/plain": [
              "<Figure size 432x288 with 1 Axes>"
            ]
          },
          "metadata": {
            "tags": [],
            "needs_background": "light"
          }
        }
      ]
    },
    {
      "cell_type": "code",
      "metadata": {
        "id": "5LTistlwak--",
        "colab_type": "code",
        "colab": {}
      },
      "source": [
        "from torch.utils.data import random_split"
      ],
      "execution_count": 27,
      "outputs": []
    },
    {
      "cell_type": "code",
      "metadata": {
        "id": "WyqEH5CJIXiH",
        "colab_type": "code",
        "colab": {
          "base_uri": "https://localhost:8080/",
          "height": 35
        },
        "outputId": "64afa5e7-aff3-4783-9490-b6dae58cd307"
      },
      "source": [
        "train_ds, val_ds= random_split(dataset, [50000, 10000])\n",
        "len(train_ds) , len(val_ds)"
      ],
      "execution_count": 28,
      "outputs": [
        {
          "output_type": "execute_result",
          "data": {
            "text/plain": [
              "(50000, 10000)"
            ]
          },
          "metadata": {
            "tags": []
          },
          "execution_count": 28
        }
      ]
    },
    {
      "cell_type": "code",
      "metadata": {
        "id": "xbhbBqpNIotq",
        "colab_type": "code",
        "colab": {}
      },
      "source": [
        "from torch.utils.data import DataLoader"
      ],
      "execution_count": 29,
      "outputs": []
    },
    {
      "cell_type": "code",
      "metadata": {
        "id": "7Xcn6FnqI-r8",
        "colab_type": "code",
        "colab": {}
      },
      "source": [
        "batch_size=128"
      ],
      "execution_count": 30,
      "outputs": []
    },
    {
      "cell_type": "code",
      "metadata": {
        "id": "FxnjaPDlJAzs",
        "colab_type": "code",
        "colab": {}
      },
      "source": [
        "train_loader= DataLoader(train_ds,batch_size,shuffle=True, drop_last=True)\n",
        "val_loader= DataLoader(val_ds, batch_size,drop_last=True)\n",
        "\n"
      ],
      "execution_count": 31,
      "outputs": []
    },
    {
      "cell_type": "code",
      "metadata": {
        "id": "yXIEJMugJwn1",
        "colab_type": "code",
        "colab": {}
      },
      "source": [
        "import torch.nn as nn"
      ],
      "execution_count": 32,
      "outputs": []
    },
    {
      "cell_type": "code",
      "metadata": {
        "id": "BYjHE-0TJ4Yw",
        "colab_type": "code",
        "colab": {}
      },
      "source": [
        "input_size= 28*28\n",
        "num_classes=10\n",
        "model= nn.Linear(input_size, num_classes)"
      ],
      "execution_count": 33,
      "outputs": []
    },
    {
      "cell_type": "code",
      "metadata": {
        "id": "l7-DFlI-KGdU",
        "colab_type": "code",
        "colab": {
          "base_uri": "https://localhost:8080/",
          "height": 35
        },
        "outputId": "5b96cbc1-b77f-4c8f-ad70-d4c0407368f2"
      },
      "source": [
        "print(model.weight.shape)"
      ],
      "execution_count": 34,
      "outputs": [
        {
          "output_type": "stream",
          "text": [
            "torch.Size([10, 784])\n"
          ],
          "name": "stdout"
        }
      ]
    },
    {
      "cell_type": "code",
      "metadata": {
        "id": "zRtKIFaFKP0K",
        "colab_type": "code",
        "colab": {
          "base_uri": "https://localhost:8080/",
          "height": 182
        },
        "outputId": "43bc9c3b-c338-4602-abae-bd2ddac2ca1a"
      },
      "source": [
        "model.weight"
      ],
      "execution_count": 35,
      "outputs": [
        {
          "output_type": "execute_result",
          "data": {
            "text/plain": [
              "Parameter containing:\n",
              "tensor([[ 0.0015, -0.0264,  0.0221,  ...,  0.0347,  0.0136, -0.0062],\n",
              "        [ 0.0203,  0.0126, -0.0224,  ...,  0.0059,  0.0150, -0.0013],\n",
              "        [ 0.0021,  0.0331,  0.0152,  ...,  0.0037,  0.0225,  0.0135],\n",
              "        ...,\n",
              "        [-0.0174,  0.0312,  0.0066,  ...,  0.0288,  0.0357, -0.0327],\n",
              "        [ 0.0101,  0.0248,  0.0195,  ...,  0.0236,  0.0329, -0.0355],\n",
              "        [ 0.0275,  0.0217, -0.0181,  ...,  0.0167, -0.0273, -0.0012]],\n",
              "       requires_grad=True)"
            ]
          },
          "metadata": {
            "tags": []
          },
          "execution_count": 35
        }
      ]
    },
    {
      "cell_type": "code",
      "metadata": {
        "id": "z4cp1Qt1KR00",
        "colab_type": "code",
        "colab": {
          "base_uri": "https://localhost:8080/",
          "height": 72
        },
        "outputId": "f0e6a36b-6897-4e25-a8c1-2b5c4d07e2db"
      },
      "source": [
        "model.bias"
      ],
      "execution_count": 36,
      "outputs": [
        {
          "output_type": "execute_result",
          "data": {
            "text/plain": [
              "Parameter containing:\n",
              "tensor([-0.0017,  0.0183,  0.0265,  0.0004, -0.0054,  0.0269,  0.0109, -0.0030,\n",
              "         0.0126,  0.0203], requires_grad=True)"
            ]
          },
          "metadata": {
            "tags": []
          },
          "execution_count": 36
        }
      ]
    },
    {
      "cell_type": "code",
      "metadata": {
        "id": "IkMxmOY9KW3k",
        "colab_type": "code",
        "colab": {
          "base_uri": "https://localhost:8080/",
          "height": 508
        },
        "outputId": "829737ee-f7a3-43d8-a92c-afd2f7254439"
      },
      "source": [
        "for images,label in train_loader:\n",
        "  print(label)\n",
        "  print(images.shape)\n",
        "  outputs=model(images)\n",
        "  break"
      ],
      "execution_count": 37,
      "outputs": [
        {
          "output_type": "stream",
          "text": [
            "tensor([6, 2, 1, 0, 7, 9, 1, 1, 0, 2, 3, 3, 9, 4, 0, 6, 7, 9, 3, 5, 7, 7, 5, 6,\n",
            "        0, 9, 1, 5, 7, 4, 6, 3, 9, 3, 2, 9, 1, 1, 2, 3, 4, 6, 4, 4, 4, 3, 3, 7,\n",
            "        9, 7, 8, 3, 3, 9, 2, 3, 8, 4, 9, 7, 1, 9, 6, 4, 5, 5, 2, 5, 6, 7, 5, 2,\n",
            "        8, 7, 3, 3, 4, 6, 8, 3, 6, 0, 4, 6, 8, 8, 6, 7, 7, 8, 2, 9, 8, 9, 9, 0,\n",
            "        4, 8, 0, 2, 8, 9, 5, 3, 4, 1, 7, 2, 3, 2, 0, 5, 1, 6, 0, 8, 5, 1, 2, 0,\n",
            "        3, 3, 2, 3, 9, 5, 1, 2])\n",
            "torch.Size([128, 1, 28, 28])\n"
          ],
          "name": "stdout"
        },
        {
          "output_type": "error",
          "ename": "RuntimeError",
          "evalue": "ignored",
          "traceback": [
            "\u001b[0;31m---------------------------------------------------------------------------\u001b[0m",
            "\u001b[0;31mRuntimeError\u001b[0m                              Traceback (most recent call last)",
            "\u001b[0;32m<ipython-input-37-36b1e47746f4>\u001b[0m in \u001b[0;36m<module>\u001b[0;34m()\u001b[0m\n\u001b[1;32m      2\u001b[0m   \u001b[0mprint\u001b[0m\u001b[0;34m(\u001b[0m\u001b[0mlabel\u001b[0m\u001b[0;34m)\u001b[0m\u001b[0;34m\u001b[0m\u001b[0;34m\u001b[0m\u001b[0m\n\u001b[1;32m      3\u001b[0m   \u001b[0mprint\u001b[0m\u001b[0;34m(\u001b[0m\u001b[0mimages\u001b[0m\u001b[0;34m.\u001b[0m\u001b[0mshape\u001b[0m\u001b[0;34m)\u001b[0m\u001b[0;34m\u001b[0m\u001b[0;34m\u001b[0m\u001b[0m\n\u001b[0;32m----> 4\u001b[0;31m   \u001b[0moutputs\u001b[0m\u001b[0;34m=\u001b[0m\u001b[0mmodel\u001b[0m\u001b[0;34m(\u001b[0m\u001b[0mimages\u001b[0m\u001b[0;34m)\u001b[0m\u001b[0;34m\u001b[0m\u001b[0;34m\u001b[0m\u001b[0m\n\u001b[0m\u001b[1;32m      5\u001b[0m   \u001b[0;32mbreak\u001b[0m\u001b[0;34m\u001b[0m\u001b[0;34m\u001b[0m\u001b[0m\n",
            "\u001b[0;32m/usr/local/lib/python3.6/dist-packages/torch/nn/modules/module.py\u001b[0m in \u001b[0;36m__call__\u001b[0;34m(self, *input, **kwargs)\u001b[0m\n\u001b[1;32m    548\u001b[0m             \u001b[0mresult\u001b[0m \u001b[0;34m=\u001b[0m \u001b[0mself\u001b[0m\u001b[0;34m.\u001b[0m\u001b[0m_slow_forward\u001b[0m\u001b[0;34m(\u001b[0m\u001b[0;34m*\u001b[0m\u001b[0minput\u001b[0m\u001b[0;34m,\u001b[0m \u001b[0;34m**\u001b[0m\u001b[0mkwargs\u001b[0m\u001b[0;34m)\u001b[0m\u001b[0;34m\u001b[0m\u001b[0;34m\u001b[0m\u001b[0m\n\u001b[1;32m    549\u001b[0m         \u001b[0;32melse\u001b[0m\u001b[0;34m:\u001b[0m\u001b[0;34m\u001b[0m\u001b[0;34m\u001b[0m\u001b[0m\n\u001b[0;32m--> 550\u001b[0;31m             \u001b[0mresult\u001b[0m \u001b[0;34m=\u001b[0m \u001b[0mself\u001b[0m\u001b[0;34m.\u001b[0m\u001b[0mforward\u001b[0m\u001b[0;34m(\u001b[0m\u001b[0;34m*\u001b[0m\u001b[0minput\u001b[0m\u001b[0;34m,\u001b[0m \u001b[0;34m**\u001b[0m\u001b[0mkwargs\u001b[0m\u001b[0;34m)\u001b[0m\u001b[0;34m\u001b[0m\u001b[0;34m\u001b[0m\u001b[0m\n\u001b[0m\u001b[1;32m    551\u001b[0m         \u001b[0;32mfor\u001b[0m \u001b[0mhook\u001b[0m \u001b[0;32min\u001b[0m \u001b[0mself\u001b[0m\u001b[0;34m.\u001b[0m\u001b[0m_forward_hooks\u001b[0m\u001b[0;34m.\u001b[0m\u001b[0mvalues\u001b[0m\u001b[0;34m(\u001b[0m\u001b[0;34m)\u001b[0m\u001b[0;34m:\u001b[0m\u001b[0;34m\u001b[0m\u001b[0;34m\u001b[0m\u001b[0m\n\u001b[1;32m    552\u001b[0m             \u001b[0mhook_result\u001b[0m \u001b[0;34m=\u001b[0m \u001b[0mhook\u001b[0m\u001b[0;34m(\u001b[0m\u001b[0mself\u001b[0m\u001b[0;34m,\u001b[0m \u001b[0minput\u001b[0m\u001b[0;34m,\u001b[0m \u001b[0mresult\u001b[0m\u001b[0;34m)\u001b[0m\u001b[0;34m\u001b[0m\u001b[0;34m\u001b[0m\u001b[0m\n",
            "\u001b[0;32m/usr/local/lib/python3.6/dist-packages/torch/nn/modules/linear.py\u001b[0m in \u001b[0;36mforward\u001b[0;34m(self, input)\u001b[0m\n\u001b[1;32m     85\u001b[0m \u001b[0;34m\u001b[0m\u001b[0m\n\u001b[1;32m     86\u001b[0m     \u001b[0;32mdef\u001b[0m \u001b[0mforward\u001b[0m\u001b[0;34m(\u001b[0m\u001b[0mself\u001b[0m\u001b[0;34m,\u001b[0m \u001b[0minput\u001b[0m\u001b[0;34m)\u001b[0m\u001b[0;34m:\u001b[0m\u001b[0;34m\u001b[0m\u001b[0;34m\u001b[0m\u001b[0m\n\u001b[0;32m---> 87\u001b[0;31m         \u001b[0;32mreturn\u001b[0m \u001b[0mF\u001b[0m\u001b[0;34m.\u001b[0m\u001b[0mlinear\u001b[0m\u001b[0;34m(\u001b[0m\u001b[0minput\u001b[0m\u001b[0;34m,\u001b[0m \u001b[0mself\u001b[0m\u001b[0;34m.\u001b[0m\u001b[0mweight\u001b[0m\u001b[0;34m,\u001b[0m \u001b[0mself\u001b[0m\u001b[0;34m.\u001b[0m\u001b[0mbias\u001b[0m\u001b[0;34m)\u001b[0m\u001b[0;34m\u001b[0m\u001b[0;34m\u001b[0m\u001b[0m\n\u001b[0m\u001b[1;32m     88\u001b[0m \u001b[0;34m\u001b[0m\u001b[0m\n\u001b[1;32m     89\u001b[0m     \u001b[0;32mdef\u001b[0m \u001b[0mextra_repr\u001b[0m\u001b[0;34m(\u001b[0m\u001b[0mself\u001b[0m\u001b[0;34m)\u001b[0m\u001b[0;34m:\u001b[0m\u001b[0;34m\u001b[0m\u001b[0;34m\u001b[0m\u001b[0m\n",
            "\u001b[0;32m/usr/local/lib/python3.6/dist-packages/torch/nn/functional.py\u001b[0m in \u001b[0;36mlinear\u001b[0;34m(input, weight, bias)\u001b[0m\n\u001b[1;32m   1610\u001b[0m         \u001b[0mret\u001b[0m \u001b[0;34m=\u001b[0m \u001b[0mtorch\u001b[0m\u001b[0;34m.\u001b[0m\u001b[0maddmm\u001b[0m\u001b[0;34m(\u001b[0m\u001b[0mbias\u001b[0m\u001b[0;34m,\u001b[0m \u001b[0minput\u001b[0m\u001b[0;34m,\u001b[0m \u001b[0mweight\u001b[0m\u001b[0;34m.\u001b[0m\u001b[0mt\u001b[0m\u001b[0;34m(\u001b[0m\u001b[0;34m)\u001b[0m\u001b[0;34m)\u001b[0m\u001b[0;34m\u001b[0m\u001b[0;34m\u001b[0m\u001b[0m\n\u001b[1;32m   1611\u001b[0m     \u001b[0;32melse\u001b[0m\u001b[0;34m:\u001b[0m\u001b[0;34m\u001b[0m\u001b[0;34m\u001b[0m\u001b[0m\n\u001b[0;32m-> 1612\u001b[0;31m         \u001b[0moutput\u001b[0m \u001b[0;34m=\u001b[0m \u001b[0minput\u001b[0m\u001b[0;34m.\u001b[0m\u001b[0mmatmul\u001b[0m\u001b[0;34m(\u001b[0m\u001b[0mweight\u001b[0m\u001b[0;34m.\u001b[0m\u001b[0mt\u001b[0m\u001b[0;34m(\u001b[0m\u001b[0;34m)\u001b[0m\u001b[0;34m)\u001b[0m\u001b[0;34m\u001b[0m\u001b[0;34m\u001b[0m\u001b[0m\n\u001b[0m\u001b[1;32m   1613\u001b[0m         \u001b[0;32mif\u001b[0m \u001b[0mbias\u001b[0m \u001b[0;32mis\u001b[0m \u001b[0;32mnot\u001b[0m \u001b[0;32mNone\u001b[0m\u001b[0;34m:\u001b[0m\u001b[0;34m\u001b[0m\u001b[0;34m\u001b[0m\u001b[0m\n\u001b[1;32m   1614\u001b[0m             \u001b[0moutput\u001b[0m \u001b[0;34m+=\u001b[0m \u001b[0mbias\u001b[0m\u001b[0;34m\u001b[0m\u001b[0;34m\u001b[0m\u001b[0m\n",
            "\u001b[0;31mRuntimeError\u001b[0m: size mismatch, m1: [3584 x 28], m2: [784 x 10] at /pytorch/aten/src/TH/generic/THTensorMath.cpp:41"
          ]
        }
      ]
    },
    {
      "cell_type": "code",
      "metadata": {
        "id": "YXsl1Bf1K78W",
        "colab_type": "code",
        "colab": {}
      },
      "source": [
        "class Mnistmodel(nn.Module):\n",
        "  def __init__(self):\n",
        "    super().__init__()\n",
        "    self.linear=nn.Linear(input_size, num_classes)\n",
        "\n",
        "  def forward(self,xb):\n",
        "    xb=xb.reshape(-1,784)\n",
        "    out=self.linear(xb)\n",
        "    return out"
      ],
      "execution_count": 38,
      "outputs": []
    },
    {
      "cell_type": "code",
      "metadata": {
        "id": "br1QTwp3MeLM",
        "colab_type": "code",
        "colab": {}
      },
      "source": [
        "model=Mnistmodel()"
      ],
      "execution_count": 39,
      "outputs": []
    },
    {
      "cell_type": "code",
      "metadata": {
        "id": "I-RHiBsJMiqK",
        "colab_type": "code",
        "colab": {
          "base_uri": "https://localhost:8080/",
          "height": 35
        },
        "outputId": "cd553f90-4ee2-4520-9472-d311856f07fe"
      },
      "source": [
        "print( model.linear.weight.shape)"
      ],
      "execution_count": 40,
      "outputs": [
        {
          "output_type": "stream",
          "text": [
            "torch.Size([10, 784])\n"
          ],
          "name": "stdout"
        }
      ]
    },
    {
      "cell_type": "code",
      "metadata": {
        "id": "XolnLwufNGls",
        "colab_type": "code",
        "colab": {
          "base_uri": "https://localhost:8080/",
          "height": 219
        },
        "outputId": "9cbcd1ef-9f13-4c7a-96b1-9b005d26c595"
      },
      "source": [
        "list(model.parameters())"
      ],
      "execution_count": 41,
      "outputs": [
        {
          "output_type": "execute_result",
          "data": {
            "text/plain": [
              "[Parameter containing:\n",
              " tensor([[ 0.0289,  0.0157, -0.0036,  ..., -0.0083, -0.0308, -0.0130],\n",
              "         [-0.0289, -0.0235, -0.0269,  ...,  0.0068,  0.0300,  0.0220],\n",
              "         [ 0.0026,  0.0183,  0.0111,  ..., -0.0353,  0.0348,  0.0196],\n",
              "         ...,\n",
              "         [-0.0085,  0.0336,  0.0353,  ...,  0.0209, -0.0050, -0.0349],\n",
              "         [ 0.0285, -0.0078,  0.0056,  ...,  0.0234, -0.0019, -0.0071],\n",
              "         [ 0.0017,  0.0181, -0.0288,  ..., -0.0273,  0.0177,  0.0024]],\n",
              "        requires_grad=True), Parameter containing:\n",
              " tensor([-0.0105, -0.0141, -0.0296,  0.0105,  0.0224,  0.0319, -0.0192, -0.0028,\n",
              "          0.0242, -0.0271], requires_grad=True)]"
            ]
          },
          "metadata": {
            "tags": []
          },
          "execution_count": 41
        }
      ]
    },
    {
      "cell_type": "code",
      "metadata": {
        "id": "aJfzQmbcNNJU",
        "colab_type": "code",
        "colab": {}
      },
      "source": [
        "for inages, labels in train_loader:\n",
        "  output=model(images)\n",
        "  break\n"
      ],
      "execution_count": 42,
      "outputs": []
    },
    {
      "cell_type": "code",
      "metadata": {
        "id": "B7CodDykNjeP",
        "colab_type": "code",
        "colab": {
          "base_uri": "https://localhost:8080/",
          "height": 35
        },
        "outputId": "4c0a8898-07ae-417b-f4b0-9e5d875574ef"
      },
      "source": [
        "print(output.shape)"
      ],
      "execution_count": 43,
      "outputs": [
        {
          "output_type": "stream",
          "text": [
            "torch.Size([128, 10])\n"
          ],
          "name": "stdout"
        }
      ]
    },
    {
      "cell_type": "code",
      "metadata": {
        "id": "ZA_5XN2_NuBv",
        "colab_type": "code",
        "colab": {
          "base_uri": "https://localhost:8080/",
          "height": 90
        },
        "outputId": "8b1d8043-e22c-4d3c-cff2-120ac42e15b6"
      },
      "source": [
        "output[:2,:].data"
      ],
      "execution_count": 44,
      "outputs": [
        {
          "output_type": "execute_result",
          "data": {
            "text/plain": [
              "tensor([[-0.2426, -0.0858,  0.0182,  0.0785,  0.1876, -0.1915, -0.0449,  0.4007,\n",
              "          0.2371,  0.0647],\n",
              "        [-0.2473, -0.1299, -0.2389,  0.0754,  0.0917, -0.1980, -0.1571, -0.0629,\n",
              "          0.1030,  0.1362]])"
            ]
          },
          "metadata": {
            "tags": []
          },
          "execution_count": 44
        }
      ]
    },
    {
      "cell_type": "code",
      "metadata": {
        "id": "sHryH15BN3qg",
        "colab_type": "code",
        "colab": {}
      },
      "source": [
        "import torch.nn.functional as F"
      ],
      "execution_count": 45,
      "outputs": []
    },
    {
      "cell_type": "code",
      "metadata": {
        "id": "sxUKd7XKOdq0",
        "colab_type": "code",
        "colab": {}
      },
      "source": [
        "probs=F.softmax(output,dim=1)"
      ],
      "execution_count": 46,
      "outputs": []
    },
    {
      "cell_type": "code",
      "metadata": {
        "id": "juuE2vaPOqQl",
        "colab_type": "code",
        "colab": {
          "base_uri": "https://localhost:8080/",
          "height": 90
        },
        "outputId": "a3291bfc-ee4b-4bec-f594-a555be5d689e"
      },
      "source": [
        "probs[:2].data"
      ],
      "execution_count": 47,
      "outputs": [
        {
          "output_type": "execute_result",
          "data": {
            "text/plain": [
              "tensor([[0.0739, 0.0864, 0.0959, 0.1019, 0.1136, 0.0778, 0.0900, 0.1406, 0.1194,\n",
              "         0.1005],\n",
              "        [0.0823, 0.0925, 0.0830, 0.1136, 0.1155, 0.0865, 0.0901, 0.0990, 0.1168,\n",
              "         0.1208]])"
            ]
          },
          "metadata": {
            "tags": []
          },
          "execution_count": 47
        }
      ]
    },
    {
      "cell_type": "code",
      "metadata": {
        "id": "cUuC_L1BOund",
        "colab_type": "code",
        "colab": {
          "base_uri": "https://localhost:8080/",
          "height": 35
        },
        "outputId": "af1a1830-f9bd-46ce-cdab-fe72e2bca2d9"
      },
      "source": [
        "torch.sum(probs[0]).item()"
      ],
      "execution_count": 48,
      "outputs": [
        {
          "output_type": "execute_result",
          "data": {
            "text/plain": [
              "0.9999998807907104"
            ]
          },
          "metadata": {
            "tags": []
          },
          "execution_count": 48
        }
      ]
    },
    {
      "cell_type": "code",
      "metadata": {
        "id": "9za30ycxO9aP",
        "colab_type": "code",
        "colab": {}
      },
      "source": [
        "max_probs,pred=torch.max(probs, dim=1)"
      ],
      "execution_count": 49,
      "outputs": []
    },
    {
      "cell_type": "code",
      "metadata": {
        "id": "0m9oHV-MPX3L",
        "colab_type": "code",
        "colab": {
          "base_uri": "https://localhost:8080/",
          "height": 127
        },
        "outputId": "16ae5e4a-b1ec-4915-964f-bece41587fd0"
      },
      "source": [
        "print(pred)"
      ],
      "execution_count": 50,
      "outputs": [
        {
          "output_type": "stream",
          "text": [
            "tensor([7, 9, 9, 4, 4, 9, 7, 7, 7, 7, 4, 8, 7, 4, 7, 7, 9, 9, 9, 7, 9, 9, 9, 4,\n",
            "        4, 9, 7, 7, 8, 1, 4, 9, 9, 4, 9, 9, 7, 7, 8, 7, 9, 9, 4, 6, 9, 8, 9, 9,\n",
            "        9, 9, 9, 7, 8, 9, 7, 3, 8, 4, 9, 9, 7, 4, 7, 9, 7, 7, 7, 9, 9, 3, 8, 9,\n",
            "        8, 9, 8, 7, 6, 7, 9, 8, 4, 7, 9, 6, 9, 9, 9, 0, 9, 8, 7, 7, 7, 9, 8, 4,\n",
            "        7, 9, 8, 4, 8, 4, 7, 7, 9, 7, 9, 7, 8, 7, 7, 9, 7, 4, 9, 7, 8, 7, 7, 8,\n",
            "        7, 8, 7, 9, 6, 9, 4, 8])\n"
          ],
          "name": "stdout"
        }
      ]
    },
    {
      "cell_type": "code",
      "metadata": {
        "id": "_-sktx_gPedG",
        "colab_type": "code",
        "colab": {}
      },
      "source": [
        "def accuracy(output, labels):\n",
        "  _,preds= torch.max(output, dim=1)\n",
        "  return torch.tensor(torch.sum(preds==labels).item()/len(preds))"
      ],
      "execution_count": 51,
      "outputs": []
    },
    {
      "cell_type": "code",
      "metadata": {
        "id": "UzqLHJ62QuP9",
        "colab_type": "code",
        "colab": {
          "base_uri": "https://localhost:8080/",
          "height": 35
        },
        "outputId": "63f215f6-e0a4-4c33-e076-c6adb133c1d3"
      },
      "source": [
        "accuracy(output,labels)"
      ],
      "execution_count": 52,
      "outputs": [
        {
          "output_type": "execute_result",
          "data": {
            "text/plain": [
              "tensor(0.0859)"
            ]
          },
          "metadata": {
            "tags": []
          },
          "execution_count": 52
        }
      ]
    },
    {
      "cell_type": "code",
      "metadata": {
        "id": "QF0Wh7BVRUfl",
        "colab_type": "code",
        "colab": {
          "base_uri": "https://localhost:8080/",
          "height": 35
        },
        "outputId": "a52aba45-8d3c-4572-b19e-6b99d69b2174"
      },
      "source": [
        "loss_fn= F.cross_entropy\n",
        "\n",
        "loss= loss_fn(output,labels)\n",
        "print(loss.item())"
      ],
      "execution_count": 53,
      "outputs": [
        {
          "output_type": "stream",
          "text": [
            "2.3160159587860107\n"
          ],
          "name": "stdout"
        }
      ]
    },
    {
      "cell_type": "code",
      "metadata": {
        "id": "oyHbfh4ATOQz",
        "colab_type": "code",
        "colab": {}
      },
      "source": [
        "class MnistModel(nn.Module):\n",
        "    def __init__(self):\n",
        "        super().__init__()\n",
        "        self.linear = nn.Linear(input_size, num_classes)\n",
        "        \n",
        "    def forward(self, xb):\n",
        "        xb = xb.reshape(-1, 784)\n",
        "        out = self.linear(xb)\n",
        "        return out\n",
        "    \n",
        "    def training_step(self, batch):\n",
        "        images, labels = batch \n",
        "        out = self(images)                  # Generate predictions\n",
        "        loss = F.cross_entropy(out, labels) # Calculate loss\n",
        "        return loss\n",
        "    \n",
        "    def validation_step(self, batch):\n",
        "        images, labels = batch \n",
        "        out = self(images)                    # Generate predictions\n",
        "        loss = F.cross_entropy(out, labels)   # Calculate loss\n",
        "        acc = accuracy(out, labels)           # Calculate accuracy\n",
        "        return {'val_loss': loss, 'val_acc': acc}\n",
        "        \n",
        "    def validation_epoch_end(self, outputs):\n",
        "        batch_losses = [x['val_loss'] for x in outputs]\n",
        "        epoch_loss = torch.stack(batch_losses).mean()   # Combine losses\n",
        "        batch_accs = [x['val_acc'] for x in outputs]\n",
        "        epoch_acc = torch.stack(batch_accs).mean()      # Combine accuracies\n",
        "        return {'val_loss': epoch_loss.item(), 'val_acc': epoch_acc.item()}\n",
        "    \n",
        "    def epoch_end(self, epoch, result):\n",
        "        print(\"Epoch [{}], val_loss: {:.4f}, val_acc: {:.4f}\".format(epoch, result['val_loss'], result['val_acc']))\n",
        "    \n",
        "model = MnistModel()"
      ],
      "execution_count": 54,
      "outputs": []
    },
    {
      "cell_type": "code",
      "metadata": {
        "id": "f8UtoxOFpndf",
        "colab_type": "code",
        "colab": {}
      },
      "source": [
        "def evaluate(model, val_loader):\n",
        "    outputs = [model.validation_step(batch) for batch in val_loader]\n",
        "    return model.validation_epoch_end(outputs)"
      ],
      "execution_count": 55,
      "outputs": []
    },
    {
      "cell_type": "code",
      "metadata": {
        "id": "uBAOWY3bh9Em",
        "colab_type": "code",
        "colab": {}
      },
      "source": [
        "def fit(epochs, lr,model,train_loader,val_loader,opt_func= torch.optim.SGD):\n",
        "  history=[]\n",
        "  optimizer =opt_func(model.parameters(), lr)\n",
        "  for epoch in range(epochs):\n",
        "    for batch in train_loader:\n",
        "      loss=model.training_step(batch)\n",
        "      loss.backward()\n",
        "      optimizer.step()\n",
        "      optimizer.zero_grad()\n",
        "\n",
        "    result=evaluate(model, val_loader)\n",
        "    model.epoch_end(epoch, result)\n",
        "    history.append(result)\n",
        "  return history"
      ],
      "execution_count": 56,
      "outputs": []
    },
    {
      "cell_type": "code",
      "metadata": {
        "id": "rbBQkAQWqqTa",
        "colab_type": "code",
        "colab": {
          "base_uri": "https://localhost:8080/",
          "height": 35
        },
        "outputId": "3f99e353-51e3-47f8-bed8-e1d21f5e5a82"
      },
      "source": [
        "evaluate(model,val_loader)"
      ],
      "execution_count": 57,
      "outputs": [
        {
          "output_type": "execute_result",
          "data": {
            "text/plain": [
              "{'val_acc': 0.053786057978868484, 'val_loss': 2.339158773422241}"
            ]
          },
          "metadata": {
            "tags": []
          },
          "execution_count": 57
        }
      ]
    },
    {
      "cell_type": "code",
      "metadata": {
        "id": "H9f6C_d4qx1Y",
        "colab_type": "code",
        "colab": {
          "base_uri": "https://localhost:8080/",
          "height": 109
        },
        "outputId": "3e45413b-3fa3-4098-e727-3d7513968294"
      },
      "source": [
        "history1= fit(5, .001, model,train_loader, val_loader)"
      ],
      "execution_count": 58,
      "outputs": [
        {
          "output_type": "stream",
          "text": [
            "Epoch [0], val_loss: 1.9645, val_acc: 0.6033\n",
            "Epoch [1], val_loss: 1.6918, val_acc: 0.7036\n",
            "Epoch [2], val_loss: 1.4882, val_acc: 0.7408\n",
            "Epoch [3], val_loss: 1.3345, val_acc: 0.7681\n",
            "Epoch [4], val_loss: 1.2164, val_acc: 0.7862\n"
          ],
          "name": "stdout"
        }
      ]
    },
    {
      "cell_type": "code",
      "metadata": {
        "id": "hozLHE-DhiOP",
        "colab_type": "code",
        "colab": {
          "base_uri": "https://localhost:8080/",
          "height": 109
        },
        "outputId": "bee0807d-e196-420a-a12c-072ea84e357a"
      },
      "source": [
        "history2= fit(5, .001, model,train_loader, val_loader)"
      ],
      "execution_count": 59,
      "outputs": [
        {
          "output_type": "stream",
          "text": [
            "Epoch [0], val_loss: 1.1235, val_acc: 0.8012\n",
            "Epoch [1], val_loss: 1.0488, val_acc: 0.8111\n",
            "Epoch [2], val_loss: 0.9877, val_acc: 0.8183\n",
            "Epoch [3], val_loss: 0.9369, val_acc: 0.8242\n",
            "Epoch [4], val_loss: 0.8939, val_acc: 0.8288\n"
          ],
          "name": "stdout"
        }
      ]
    },
    {
      "cell_type": "code",
      "metadata": {
        "id": "_e81YBzlCruF",
        "colab_type": "code",
        "colab": {
          "base_uri": "https://localhost:8080/",
          "height": 109
        },
        "outputId": "130f54e2-9486-4668-bd18-60381388187e"
      },
      "source": [
        "history3= fit(5, .001, model,train_loader, val_loader)"
      ],
      "execution_count": 60,
      "outputs": [
        {
          "output_type": "stream",
          "text": [
            "Epoch [0], val_loss: 0.8571, val_acc: 0.8342\n",
            "Epoch [1], val_loss: 0.8251, val_acc: 0.8371\n",
            "Epoch [2], val_loss: 0.7972, val_acc: 0.8397\n",
            "Epoch [3], val_loss: 0.7725, val_acc: 0.8421\n",
            "Epoch [4], val_loss: 0.7505, val_acc: 0.8452\n"
          ],
          "name": "stdout"
        }
      ]
    },
    {
      "cell_type": "code",
      "metadata": {
        "id": "CjqMRTKbCtp0",
        "colab_type": "code",
        "colab": {
          "base_uri": "https://localhost:8080/",
          "height": 109
        },
        "outputId": "a77c0e99-941c-4854-83dc-d8c37b01fa00"
      },
      "source": [
        "history4= fit(5, .001, model,train_loader, val_loader)"
      ],
      "execution_count": 61,
      "outputs": [
        {
          "output_type": "stream",
          "text": [
            "Epoch [0], val_loss: 0.7308, val_acc: 0.8475\n",
            "Epoch [1], val_loss: 0.7130, val_acc: 0.8488\n",
            "Epoch [2], val_loss: 0.6968, val_acc: 0.8508\n",
            "Epoch [3], val_loss: 0.6821, val_acc: 0.8529\n",
            "Epoch [4], val_loss: 0.6686, val_acc: 0.8546\n"
          ],
          "name": "stdout"
        }
      ]
    },
    {
      "cell_type": "code",
      "metadata": {
        "id": "mByPWvoPCv-1",
        "colab_type": "code",
        "colab": {}
      },
      "source": [
        "test_dataset= MNIST(root='data/', train=False, transform=transforms.ToTensor())"
      ],
      "execution_count": 68,
      "outputs": []
    },
    {
      "cell_type": "code",
      "metadata": {
        "id": "3ZDhp05lD_6c",
        "colab_type": "code",
        "colab": {}
      },
      "source": [
        "img,label= test_dataset[1]"
      ],
      "execution_count": 79,
      "outputs": []
    },
    {
      "cell_type": "code",
      "metadata": {
        "id": "1bwonKqNEEpU",
        "colab_type": "code",
        "colab": {
          "base_uri": "https://localhost:8080/",
          "height": 283
        },
        "outputId": "7f8d63e7-87b6-4359-adad-5631e7789fbc"
      },
      "source": [
        "plt.imshow(img[0], cmap='gray')"
      ],
      "execution_count": 80,
      "outputs": [
        {
          "output_type": "execute_result",
          "data": {
            "text/plain": [
              "<matplotlib.image.AxesImage at 0x7f1256b3a780>"
            ]
          },
          "metadata": {
            "tags": []
          },
          "execution_count": 80
        },
        {
          "output_type": "display_data",
          "data": {
            "image/png": "[encoded data removed]",
            "text/plain": [
              "<Figure size 432x288 with 1 Axes>"
            ]
          },
          "metadata": {
            "tags": [],
            "needs_background": "light"
          }
        }
      ]
    },
    {
      "cell_type": "code",
      "metadata": {
        "id": "Wq7lS1KtFWRo",
        "colab_type": "code",
        "colab": {
          "base_uri": "https://localhost:8080/",
          "height": 35
        },
        "outputId": "c60890b6-d16b-48ad-e350-51e0f2d73024"
      },
      "source": [
        "img.unsqueeze(0).shape"
      ],
      "execution_count": 72,
      "outputs": [
        {
          "output_type": "execute_result",
          "data": {
            "text/plain": [
              "torch.Size([1, 1, 28, 28])"
            ]
          },
          "metadata": {
            "tags": []
          },
          "execution_count": 72
        }
      ]
    },
    {
      "cell_type": "code",
      "metadata": {
        "id": "l3MykJ6fEoT-",
        "colab_type": "code",
        "colab": {}
      },
      "source": [
        "def predict_model(img, model):\n",
        "  xb=img.unsqueeze(0)\n",
        "  yb=model(xb)\n",
        "  _, preds= torch.max(yb, dim=1)\n",
        "  return preds.item()"
      ],
      "execution_count": 77,
      "outputs": []
    },
    {
      "cell_type": "code",
      "metadata": {
        "id": "dsoqLNGmFtgL",
        "colab_type": "code",
        "colab": {
          "base_uri": "https://localhost:8080/",
          "height": 35
        },
        "outputId": "bd9eb4d4-c4be-4f76-8da2-d674d2779e0c"
      },
      "source": [
        "predict_model(img,model)"
      ],
      "execution_count": 81,
      "outputs": [
        {
          "output_type": "execute_result",
          "data": {
            "text/plain": [
              "2"
            ]
          },
          "metadata": {
            "tags": []
          },
          "execution_count": 81
        }
      ]
    },
    {
      "cell_type": "code",
      "metadata": {
        "id": "LPQFma9xF4b8",
        "colab_type": "code",
        "colab": {}
      },
      "source": [
        ""
      ],
      "execution_count": null,
      "outputs": []
    }
  ]
}